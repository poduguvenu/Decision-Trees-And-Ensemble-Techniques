{
  "nbformat": 4,
  "nbformat_minor": 0,
  "metadata": {
    "kernelspec": {
      "display_name": "Python 3",
      "language": "python",
      "name": "python3"
    },
    "language_info": {
      "codemirror_mode": {
        "name": "ipython",
        "version": 3
      },
      "file_extension": ".py",
      "mimetype": "text/x-python",
      "name": "python",
      "nbconvert_exporter": "python",
      "pygments_lexer": "ipython3",
      "version": "3.7.6"
    },
    "colab": {
      "name": "decision-tree-classifier.ipynb",
      "provenance": []
    }
  },
  "cells": [
    {
      "cell_type": "markdown",
      "metadata": {
        "id": "CFyL1V3af-rW"
      },
      "source": [
        "# Decision Tree Classifier\n",
        "---\n",
        "This notebook on Decision Tree Algorithm in Python will take you through the fundamentals of `Decision Tree` machine learning algorithm concepts and its demo in Python"
      ]
    },
    {
      "cell_type": "markdown",
      "metadata": {
        "id": "vaX40SGWiAQU"
      },
      "source": [
        "> ## Import Required Libraries"
      ]
    },
    {
      "cell_type": "code",
      "metadata": {
        "id": "5gjEtMMs0k4o"
      },
      "source": [
        "import numpy as np\n",
        "import pandas as pd"
      ],
      "execution_count": 17,
      "outputs": []
    },
    {
      "cell_type": "markdown",
      "metadata": {
        "id": "BNfA_oRA6bmA"
      },
      "source": [
        "> ## Creating the dataset\n",
        "In the following data\n",
        "- Each row is a sample\n",
        "- The last column is the label\n",
        "- The first two columns are independent features\n",
        "- Interesting note: 2nd and 5th examples have the same features, but different labels\n",
        "\n",
        "Let's see how tree handles this case"
      ]
    },
    {
      "cell_type": "code",
      "metadata": {
        "id": "6412b2Vv6awy"
      },
      "source": [
        "training_data = [\n",
        "                 ['Green', 3, 'Mango'],\n",
        "                 ['Yellow', 3, 'Mango'],\n",
        "                 ['Red', 1, 'Grape'],\n",
        "                 ['Red', 1, 'Grape'],\n",
        "                 ['Yellow', 3, 'Lemon']\n",
        "]"
      ],
      "execution_count": 18,
      "outputs": []
    },
    {
      "cell_type": "markdown",
      "metadata": {
        "id": "TnIGv8g875j0"
      },
      "source": [
        "> ### Column labels\n",
        "These are used to print the tree"
      ]
    },
    {
      "cell_type": "code",
      "metadata": {
        "id": "vWsAbKFr7x1n"
      },
      "source": [
        "header = ['Color', 'Diameter', 'Label']"
      ],
      "execution_count": 19,
      "outputs": []
    },
    {
      "cell_type": "markdown",
      "metadata": {
        "id": "77fnjgqz8Wmn"
      },
      "source": [
        "> ## Write a function to find the unique values for a column in a data set"
      ]
    },
    {
      "cell_type": "code",
      "metadata": {
        "id": "sYrj_PqN8G4u"
      },
      "source": [
        "def unique_vals(rows, col):\n",
        "    return set([row[col] for row in rows])"
      ],
      "execution_count": 20,
      "outputs": []
    },
    {
      "cell_type": "markdown",
      "metadata": {
        "id": "AU-urFfm9LJ9"
      },
      "source": [
        "> ### Unique_vals demo"
      ]
    },
    {
      "cell_type": "code",
      "metadata": {
        "colab": {
          "base_uri": "https://localhost:8080/"
        },
        "id": "d4eq22Fd8-mx",
        "outputId": "fc0206bb-2386-4516-bbd6-b2e4c4326680"
      },
      "source": [
        "unique_vals(training_data, 0)"
      ],
      "execution_count": 21,
      "outputs": [
        {
          "output_type": "execute_result",
          "data": {
            "text/plain": [
              "{'Green', 'Red', 'Yellow'}"
            ]
          },
          "metadata": {
            "tags": []
          },
          "execution_count": 21
        }
      ]
    },
    {
      "cell_type": "code",
      "metadata": {
        "colab": {
          "base_uri": "https://localhost:8080/"
        },
        "id": "8AzW01dW9EIy",
        "outputId": "93a61623-93a5-4468-d70e-27bbc4a79736"
      },
      "source": [
        "unique_vals(training_data, 1)"
      ],
      "execution_count": 22,
      "outputs": [
        {
          "output_type": "execute_result",
          "data": {
            "text/plain": [
              "{1, 3}"
            ]
          },
          "metadata": {
            "tags": []
          },
          "execution_count": 22
        }
      ]
    },
    {
      "cell_type": "markdown",
      "metadata": {
        "id": "uM2YN_Ud9Zu6"
      },
      "source": [
        "> ## Write a function to count the no.of each type of sample in the dataset"
      ]
    },
    {
      "cell_type": "code",
      "metadata": {
        "id": "tOvZ8nzP9H_u"
      },
      "source": [
        "def class_counts(rows):\n",
        "    counts = {}\n",
        "    for row in rows:\n",
        "        label = row[-1]\n",
        "        if label not in counts:\n",
        "            counts[label] = 0\n",
        "        counts[label] += 1\n",
        "    return counts"
      ],
      "execution_count": 23,
      "outputs": []
    },
    {
      "cell_type": "markdown",
      "metadata": {
        "id": "vWHIZnTZ-m5L"
      },
      "source": [
        "> ### class_counts demo"
      ]
    },
    {
      "cell_type": "code",
      "metadata": {
        "colab": {
          "base_uri": "https://localhost:8080/"
        },
        "id": "kpCmRIO2h_en",
        "outputId": "1217f6e0-d4d3-41b6-d85f-50a436ba9cf1"
      },
      "source": [
        "class_counts(training_data)"
      ],
      "execution_count": 24,
      "outputs": [
        {
          "output_type": "execute_result",
          "data": {
            "text/plain": [
              "{'Grape': 2, 'Lemon': 1, 'Mango': 2}"
            ]
          },
          "metadata": {
            "tags": []
          },
          "execution_count": 24
        }
      ]
    },
    {
      "cell_type": "markdown",
      "metadata": {
        "id": "sFPtW-ng-9_h"
      },
      "source": [
        "> ## Write a function to check a given value is numeric or not"
      ]
    },
    {
      "cell_type": "code",
      "metadata": {
        "id": "NtsUE96_-wkd"
      },
      "source": [
        "def is_numeric(value):\n",
        "    return isinstance(value, int) or isinstance(value, float)"
      ],
      "execution_count": 25,
      "outputs": []
    },
    {
      "cell_type": "markdown",
      "metadata": {
        "id": "ZeqdIhAT_Y-F"
      },
      "source": [
        "> ### is_numeric demo"
      ]
    },
    {
      "cell_type": "code",
      "metadata": {
        "colab": {
          "base_uri": "https://localhost:8080/"
        },
        "id": "NEtghIf7_YFe",
        "outputId": "26cb6f1b-504b-4a6f-fbe7-0444b231c3ea"
      },
      "source": [
        "is_numeric(7)"
      ],
      "execution_count": 26,
      "outputs": [
        {
          "output_type": "execute_result",
          "data": {
            "text/plain": [
              "True"
            ]
          },
          "metadata": {
            "tags": []
          },
          "execution_count": 26
        }
      ]
    },
    {
      "cell_type": "code",
      "metadata": {
        "colab": {
          "base_uri": "https://localhost:8080/"
        },
        "id": "znbgxnVH_evQ",
        "outputId": "95aa49f5-d5df-421d-f12c-0c3ecb940858"
      },
      "source": [
        "is_numeric('Red')"
      ],
      "execution_count": 27,
      "outputs": [
        {
          "output_type": "execute_result",
          "data": {
            "text/plain": [
              "False"
            ]
          },
          "metadata": {
            "tags": []
          },
          "execution_count": 27
        }
      ]
    },
    {
      "cell_type": "markdown",
      "metadata": {
        "id": "V7-9IxSh_kT9"
      },
      "source": [
        "> ## Define a class partitions the data set\n",
        "This class just records a `column number` (e.g., 0 for color) and a `column value` (e.g., Green). The `match` method is used to compare the feature value in a sample to the feature value stored in the question. "
      ]
    },
    {
      "cell_type": "code",
      "metadata": {
        "id": "0rpWnQnv_isz"
      },
      "source": [
        "class Question:\n",
        "    def __init__(self, column, value):\n",
        "        self.column = column\n",
        "        self.value = value\n",
        "\n",
        "    def match(self, sample):\n",
        "        \"\"\" Compares the feature value in a sample to the feature value in this question \"\"\"\n",
        "        val = sample[self.column]\n",
        "        if is_numeric(val):\n",
        "            return val >= self.value\n",
        "        else:\n",
        "            return val == self.value\n",
        "\n",
        "    def __repr__(self):\n",
        "        \"\"\" This is just a helper method to print the question in a readable format \"\"\"\n",
        "        condition = '=='\n",
        "        if is_numeric(self.value):\n",
        "            condition = '>='\n",
        "        return 'Is %s %s %s?' % ( header[self.column], condition, str(self.value))\n",
        "\n",
        "    "
      ],
      "execution_count": 34,
      "outputs": []
    },
    {
      "cell_type": "code",
      "metadata": {
        "id": "x1AmPKx_hBQy"
      },
      "source": [
        "def partition(rows, question):\n",
        "    \"\"\" Partitions the data set \n",
        "    For each row in the dataset, check if it matches the question. If so, add it to 'true rows', otherwise, add it to 'false rows' \"\"\"\n",
        "    true_rows, false_rows = [], []\n",
        "    for row in rows:\n",
        "        if question.match(row):\n",
        "            true_rows.append(row)\n",
        "        else:\n",
        "            false_rows.append(row)\n",
        "    return true_rows, false_rows\n",
        "\n",
        "def gini(rows):\n",
        "    \"\"\" Calculate the Gini Impurity for a list of rows \"\"\"\n",
        "    counts = class_counts(rows)\n",
        "    impurity = 1\n",
        "    for lbl in counts:\n",
        "        prob_of_lbl = counts[lbl] / float(len(rows))\n",
        "        impurity -= prob_of_lbl ** 2\n",
        "    return impurity        \n",
        "\n",
        "def info_gain(left, right, current_uncertainty):\n",
        "    \"\"\" Information Gain \n",
        "    The uncertainity of the starting node, minus the weighted impurity of two child nodes \"\"\"\n",
        "    p = float(len(left)) / (len(left) + len(right))\n",
        "    return current_uncertainty - p * gini(left) - (1-p) * gini(right)\n",
        "\n",
        "def find_best_split(rows):\n",
        "    \"\"\" Find the best question to ask by iterating over every feature/value and calculating the information gain \"\"\"\n",
        "    best_gain = 0\n",
        "    best_question = None\n",
        "    current_uncertainty = gini(rows)\n",
        "    n_features = len(rows[0]) - 1\n",
        "    for col in range(n_features):\n",
        "        values = set([row[col] for row in rows])\n",
        "        for val in values:\n",
        "            question = Question(col, val)\n",
        "            true_rows, false_rows = partition(rows, question)\n",
        "            if len(true_rows) == 0 or len(false_rows) == 0:\n",
        "                continue\n",
        "            gain = info_gain(true_rows, false_rows, current_uncertainty)\n",
        "            if gain >= best_gain:\n",
        "                best_gain, best_question = gain, question\n",
        "    return best_gain, best_question"
      ],
      "execution_count": 44,
      "outputs": []
    },
    {
      "cell_type": "code",
      "metadata": {
        "id": "OcfEOBmFh_bw"
      },
      "source": [
        "class leaf:\n",
        "    \"\"\" A leaf node classifies data \n",
        "    This holds a dictionary of class (ex. 'Mango') -> no.of times it appears \n",
        "    in the rows from the training data that reach this leaf \"\"\"\n",
        "    def __init__(self, rows):\n",
        "        self.predictions = class_counts(rows)\n",
        "\n",
        "class Decision_Node:\n",
        "    \"\"\" A Decision node asks a question\n",
        "    This holds a reference to the question, and to the two child nodes \"\"\"\n",
        "    def __init__(self, question, true_branch, false_branch):\n",
        "        self.question = question\n",
        "        self.true_branch = true_branch\n",
        "        self.false_branch = false_branch\n",
        "\n",
        "def build_tree(rows):\n",
        "    \"\"\" Builds the tree\n",
        "    Rules of recursion: 1) Believe that it works 2) Start by checking for the base case \n",
        "    (no further information gain) 3) Prepare for \"\"\"\n",
        "    gain, question = find_best_split(rows)\n",
        "    if gain == 0:\n",
        "        return leaf(rows)\n",
        "    true_rows, false_rows = partition(rows, question)\n",
        "    true_branch = build_tree(true_rows)\n",
        "    false_branch = build_tree(false_rows)\n",
        "    return Decision_Node(question, true_branch, false_branch)\n",
        "\n",
        "def print_tree(node, spacing=''):\n",
        "    if isinstance(node, leaf):\n",
        "        print(spacing + 'Predict', node.predictions)\n",
        "        return\n",
        "    print(spacing + str(node.question))\n",
        "    print(spacing + '--> True:')\n",
        "    print_tree(node.true_branch, spacing + '  ')\n",
        "    print(spacing + '--> False:')\n",
        "    print_tree(node.false_branch, spacing + '  ')\n",
        "\n",
        "def classify(row, node):\n",
        "    if isinstance(node, leaf):\n",
        "        return node.predictions\n",
        "    if node.question.match(row):\n",
        "        return classify(row, node.true_branch)\n",
        "    else:\n",
        "        return classify(row, node.false_branch)\n",
        "\n",
        "def print_leaf(counts):\n",
        "    total = sum(counts.values()) * 1.0\n",
        "    probs = {}\n",
        "    for lbl in counts.keys():\n",
        "        probs[lbl] = str(int(counts[lbl] / total * 100)) + '%'\n",
        "    return probs"
      ],
      "execution_count": 47,
      "outputs": []
    },
    {
      "cell_type": "code",
      "metadata": {
        "colab": {
          "base_uri": "https://localhost:8080/"
        },
        "id": "la2Ds-3Gh_Zb",
        "outputId": "bdb6084a-b522-43e8-8212-c4a7e65b8b03"
      },
      "source": [
        "if __name__ == '__main__':\n",
        "    my_tree = build_tree(training_data)\n",
        "    print_tree(my_tree)\n",
        "    testing_data = [\n",
        "                    ['Green', 3, 'Mango'],\n",
        "                    ['Yellow', 4, 'Mango'],\n",
        "                    ['Red', 2, 'Grape'],\n",
        "                    ['Red', 1, 'Grape'],\n",
        "                    ['Yellow', 3, 'Lemon']\n",
        "    ]\n",
        "    for row in testing_data:\n",
        "        print('Actual: %s. Predicted: %s' % (row[-1], print_leaf(classify(row, my_tree))))"
      ],
      "execution_count": 49,
      "outputs": [
        {
          "output_type": "stream",
          "text": [
            "Is Diameter >= 3?\n",
            "--> True:\n",
            "  Is Color == Yellow?\n",
            "  --> True:\n",
            "    Predict {'Mango': 1, 'Lemon': 1}\n",
            "  --> False:\n",
            "    Predict {'Mango': 1}\n",
            "--> False:\n",
            "  Predict {'Grape': 2}\n",
            "Actual: Mango. Predicted: {'Mango': '100%'}\n",
            "Actual: Mango. Predicted: {'Mango': '50%', 'Lemon': '50%'}\n",
            "Actual: Grape. Predicted: {'Grape': '100%'}\n",
            "Actual: Grape. Predicted: {'Grape': '100%'}\n",
            "Actual: Lemon. Predicted: {'Mango': '50%', 'Lemon': '50%'}\n"
          ],
          "name": "stdout"
        }
      ]
    },
    {
      "cell_type": "code",
      "metadata": {
        "id": "qbgcvJasf6ud"
      },
      "source": [
        ""
      ],
      "execution_count": null,
      "outputs": []
    }
  ]
}