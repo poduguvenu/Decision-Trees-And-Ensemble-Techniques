{
  "nbformat": 4,
  "nbformat_minor": 0,
  "metadata": {
    "colab": {
      "name": "Decision Tree Classification.ipynb",
      "provenance": [],
      "collapsed_sections": []
    },
    "kernelspec": {
      "name": "python3",
      "display_name": "Python 3"
    }
  },
  "cells": [
    {
      "cell_type": "markdown",
      "metadata": {
        "id": "gNDgrRn7k0wS"
      },
      "source": [
        "# Decision Trees in Python\n",
        "In this notebook we will use **scikit-learn** and **Cost Complexity Pruning** to build **Classification Tree**, which uses continuous and categorical data from the **UCI Machine Learning Repository** to predict whether or not a patient has **heart disease**: "
      ]
    },
    {
      "cell_type": "markdown",
      "metadata": {
        "id": "JAoi_DcDmI6t"
      },
      "source": [
        "**Classification Trees** are an exceptionally useful machine learning method when you need to know how the decisions are being made. For example, if you have to justify the predictions to your boss, **Classification Trees** are a good method because each step in the decision making process is easy to understand."
      ]
    },
    {
      "cell_type": "markdown",
      "metadata": {
        "id": "7k0JZcL0m_dX"
      },
      "source": [
        "In this notebook we will discuss about...\n",
        "* Importing Data\n",
        "* Handling Missing Data\n",
        "  * Identifying Missing Data\n",
        "  * Dealing with Missing Data\n",
        "* Formatting the Data for Decision Trees\n",
        "  * Splitting data into Dependent and Independent Variables\n",
        "  * One-Hot-Encoding\n",
        "* Feature Scaling\n",
        "* Splitting the data into Training and Test sets\n",
        "* Building a Preliminary Classification Tree\n",
        "* Optimixing the tree with Cost Complexity Pruning\n",
        "  * Visualizing Alpha\n",
        "  *Using Cross Validation to find the best value for Alpha\n",
        "* Building, Drawing, Interpreting and Evaluating the Final Classification Tree\n"
      ]
    },
    {
      "cell_type": "markdown",
      "metadata": {
        "id": "slYxkfsZoyFI"
      },
      "source": [
        "## Prerequisites for this Algorithm:\n",
        "* Classification Trees\n",
        "* Cost Complexity Pruning\n",
        "* Cross Validation\n",
        "* Confusion Matrices\n",
        "* Bias and Variance"
      ]
    },
    {
      "cell_type": "markdown",
      "metadata": {
        "id": "8TQuQef8pUZ7"
      },
      "source": [
        "## Importing the required modules\n",
        "The very first thing we do is load in a bunch of Python modules"
      ]
    },
    {
      "cell_type": "code",
      "metadata": {
        "id": "wQo3jz5vjfd2"
      },
      "source": [
        "import numpy as np    # To load and manipulate data and for One-Hot-Encoding\n",
        "import pandas as pd   # To load the data, calculate the mean and standard deviation\n",
        "import matplotlib.pyplot as plt   # To plot graphs\n",
        "from sklearn.tree import DecisionTreeClassifier   # To build a classification tree\n",
        "from sklearn.tree import plot_tree    # To draw a classification tree\n",
        "from sklearn.model_selection import train_test_split    # To split data into training and test sets\n",
        "from sklearn.model_selection import cross_val_score     # For cross validation\n",
        "from sklearn.metrics import confusion_matrix    # To create a confusion matrix\n",
        "from sklearn.metrics import plot_confusion_matrix   # To draw a confusion matrix"
      ],
      "execution_count": 1,
      "outputs": []
    },
    {
      "cell_type": "markdown",
      "metadata": {
        "id": "YLMyrrWIrxv5"
      },
      "source": [
        "## Importing the Data\n",
        "We load the Dataset from the **UCI Machine Learning Repository**. Specially, we are going to use the **Heart Disease Dataset**. This dataset will allow us to predict if someone has heart disease based on their sex, age, blood pressure and a variety of other metrics. "
      ]
    },
    {
      "cell_type": "markdown",
      "metadata": {
        "id": "QtrOzKTwsu_F"
      },
      "source": [
        "### Note:\n",
        "When **Pandas(pd)** reads in data, it returns a **dataframe**, which looks like a spreadsheet. The data is organized in rows and columns and each row can contain a mixture of text and numbers. The standard variable name for a **dataframe** is the initials **df**."
      ]
    },
    {
      "cell_type": "markdown",
      "metadata": {
        "id": "N7ItD5TB1E7V"
      },
      "source": [
        "https://archive.ics.uci.edu/ml/machine-learning-databases/heart-disease/processed.cleveland.data"
      ]
    },
    {
      "cell_type": "code",
      "metadata": {
        "id": "c7KDLtSBtuwI"
      },
      "source": [
        "url = 'https://archive.ics.uci.edu/ml/machine-learning-databases/heart-disease/processed.cleveland.data'\n",
        "\n",
        "df = pd.read_csv(url, header=None)"
      ],
      "execution_count": 2,
      "outputs": []
    },
    {
      "cell_type": "markdown",
      "metadata": {
        "id": "SDwHsYA7z37n"
      },
      "source": [
        "## Exploring the Dataset\n",
        "Now that we have loaded the data into a **dataframe** called **df**, lets explore the data using some **pandas** functions."
      ]
    },
    {
      "cell_type": "code",
      "metadata": {
        "colab": {
          "base_uri": "https://localhost:8080/",
          "height": 191
        },
        "id": "ttiAtzqd0gcT",
        "outputId": "78cc782f-b0e3-462a-e3e5-8f7893b67917"
      },
      "source": [
        "# Printing the first 5 rows\n",
        "df.head()"
      ],
      "execution_count": 4,
      "outputs": [
        {
          "output_type": "execute_result",
          "data": {
            "text/html": [
              "<div>\n",
              "<style scoped>\n",
              "    .dataframe tbody tr th:only-of-type {\n",
              "        vertical-align: middle;\n",
              "    }\n",
              "\n",
              "    .dataframe tbody tr th {\n",
              "        vertical-align: top;\n",
              "    }\n",
              "\n",
              "    .dataframe thead th {\n",
              "        text-align: right;\n",
              "    }\n",
              "</style>\n",
              "<table border=\"1\" class=\"dataframe\">\n",
              "  <thead>\n",
              "    <tr style=\"text-align: right;\">\n",
              "      <th></th>\n",
              "      <th>0</th>\n",
              "      <th>1</th>\n",
              "      <th>2</th>\n",
              "      <th>3</th>\n",
              "      <th>4</th>\n",
              "      <th>5</th>\n",
              "      <th>6</th>\n",
              "      <th>7</th>\n",
              "      <th>8</th>\n",
              "      <th>9</th>\n",
              "      <th>10</th>\n",
              "      <th>11</th>\n",
              "      <th>12</th>\n",
              "      <th>13</th>\n",
              "    </tr>\n",
              "  </thead>\n",
              "  <tbody>\n",
              "    <tr>\n",
              "      <th>0</th>\n",
              "      <td>63.0</td>\n",
              "      <td>1.0</td>\n",
              "      <td>1.0</td>\n",
              "      <td>145.0</td>\n",
              "      <td>233.0</td>\n",
              "      <td>1.0</td>\n",
              "      <td>2.0</td>\n",
              "      <td>150.0</td>\n",
              "      <td>0.0</td>\n",
              "      <td>2.3</td>\n",
              "      <td>3.0</td>\n",
              "      <td>0.0</td>\n",
              "      <td>6.0</td>\n",
              "      <td>0</td>\n",
              "    </tr>\n",
              "    <tr>\n",
              "      <th>1</th>\n",
              "      <td>67.0</td>\n",
              "      <td>1.0</td>\n",
              "      <td>4.0</td>\n",
              "      <td>160.0</td>\n",
              "      <td>286.0</td>\n",
              "      <td>0.0</td>\n",
              "      <td>2.0</td>\n",
              "      <td>108.0</td>\n",
              "      <td>1.0</td>\n",
              "      <td>1.5</td>\n",
              "      <td>2.0</td>\n",
              "      <td>3.0</td>\n",
              "      <td>3.0</td>\n",
              "      <td>2</td>\n",
              "    </tr>\n",
              "    <tr>\n",
              "      <th>2</th>\n",
              "      <td>67.0</td>\n",
              "      <td>1.0</td>\n",
              "      <td>4.0</td>\n",
              "      <td>120.0</td>\n",
              "      <td>229.0</td>\n",
              "      <td>0.0</td>\n",
              "      <td>2.0</td>\n",
              "      <td>129.0</td>\n",
              "      <td>1.0</td>\n",
              "      <td>2.6</td>\n",
              "      <td>2.0</td>\n",
              "      <td>2.0</td>\n",
              "      <td>7.0</td>\n",
              "      <td>1</td>\n",
              "    </tr>\n",
              "    <tr>\n",
              "      <th>3</th>\n",
              "      <td>37.0</td>\n",
              "      <td>1.0</td>\n",
              "      <td>3.0</td>\n",
              "      <td>130.0</td>\n",
              "      <td>250.0</td>\n",
              "      <td>0.0</td>\n",
              "      <td>0.0</td>\n",
              "      <td>187.0</td>\n",
              "      <td>0.0</td>\n",
              "      <td>3.5</td>\n",
              "      <td>3.0</td>\n",
              "      <td>0.0</td>\n",
              "      <td>3.0</td>\n",
              "      <td>0</td>\n",
              "    </tr>\n",
              "    <tr>\n",
              "      <th>4</th>\n",
              "      <td>41.0</td>\n",
              "      <td>0.0</td>\n",
              "      <td>2.0</td>\n",
              "      <td>130.0</td>\n",
              "      <td>204.0</td>\n",
              "      <td>0.0</td>\n",
              "      <td>2.0</td>\n",
              "      <td>172.0</td>\n",
              "      <td>0.0</td>\n",
              "      <td>1.4</td>\n",
              "      <td>1.0</td>\n",
              "      <td>0.0</td>\n",
              "      <td>3.0</td>\n",
              "      <td>0</td>\n",
              "    </tr>\n",
              "  </tbody>\n",
              "</table>\n",
              "</div>"
            ],
            "text/plain": [
              "     0    1    2      3      4    5    6      7    8    9    10   11   12  13\n",
              "0  63.0  1.0  1.0  145.0  233.0  1.0  2.0  150.0  0.0  2.3  3.0  0.0  6.0   0\n",
              "1  67.0  1.0  4.0  160.0  286.0  0.0  2.0  108.0  1.0  1.5  2.0  3.0  3.0   2\n",
              "2  67.0  1.0  4.0  120.0  229.0  0.0  2.0  129.0  1.0  2.6  2.0  2.0  7.0   1\n",
              "3  37.0  1.0  3.0  130.0  250.0  0.0  0.0  187.0  0.0  3.5  3.0  0.0  3.0   0\n",
              "4  41.0  0.0  2.0  130.0  204.0  0.0  2.0  172.0  0.0  1.4  1.0  0.0  3.0   0"
            ]
          },
          "metadata": {
            "tags": []
          },
          "execution_count": 4
        }
      ]
    },
    {
      "cell_type": "markdown",
      "metadata": {
        "id": "BlXl-1kN2Y9X"
      },
      "source": [
        "We see that, instead of nice column names, we just have column numbers. Since nice column names would make it easier to know how to format the data, let's replace the column numbers with the following column names:\n",
        "* **age**\n",
        "* **sex**\n",
        "* **cp**, chestpain\n",
        "* **restbp**, resting blood pressure ( in mm Hg)\n",
        "* **chol**, serum cholesterol in mg/dl\n",
        "* **fbs**, fasting blood sugar\n",
        "* **restecg**, resting electrocardiographic results\n",
        "* **thalach**, maximum heart rate achieved\n",
        "* **exang**, exercise induced angina\n",
        "* **oldpeak**, ST depression induced by exercise relative to rest\n",
        "* **slope**, the slope of the peak exercise ST segment\n",
        "* **ca**, number of major vessels (0-3) colored by fluoroscopy\n",
        "* **thal**, this is short of thalium heart scan\n",
        "* **hd**, diagnosis of heart desease, the predicted attribute"
      ]
    },
    {
      "cell_type": "code",
      "metadata": {
        "colab": {
          "base_uri": "https://localhost:8080/",
          "height": 211
        },
        "id": "mMY6WnJYz9pc",
        "outputId": "a3cc6b78-d54f-4a25-c94a-67fa4912d1c8"
      },
      "source": [
        "# Changing the column numbers to column names\n",
        "df.columns = ['age','sex','cp','restbp','chol','fbs','restecg','thalach','exang','oldpeak','slope','ca','thal','hd']\n",
        "\n",
        "# Print the first 5 rows\n",
        "df.head()"
      ],
      "execution_count": 5,
      "outputs": [
        {
          "output_type": "execute_result",
          "data": {
            "text/html": [
              "<div>\n",
              "<style scoped>\n",
              "    .dataframe tbody tr th:only-of-type {\n",
              "        vertical-align: middle;\n",
              "    }\n",
              "\n",
              "    .dataframe tbody tr th {\n",
              "        vertical-align: top;\n",
              "    }\n",
              "\n",
              "    .dataframe thead th {\n",
              "        text-align: right;\n",
              "    }\n",
              "</style>\n",
              "<table border=\"1\" class=\"dataframe\">\n",
              "  <thead>\n",
              "    <tr style=\"text-align: right;\">\n",
              "      <th></th>\n",
              "      <th>age</th>\n",
              "      <th>sex</th>\n",
              "      <th>cp</th>\n",
              "      <th>restbp</th>\n",
              "      <th>chol</th>\n",
              "      <th>fbs</th>\n",
              "      <th>restecg</th>\n",
              "      <th>thalach</th>\n",
              "      <th>exang</th>\n",
              "      <th>oldpeak</th>\n",
              "      <th>slope</th>\n",
              "      <th>ca</th>\n",
              "      <th>thal</th>\n",
              "      <th>hd</th>\n",
              "    </tr>\n",
              "  </thead>\n",
              "  <tbody>\n",
              "    <tr>\n",
              "      <th>0</th>\n",
              "      <td>63.0</td>\n",
              "      <td>1.0</td>\n",
              "      <td>1.0</td>\n",
              "      <td>145.0</td>\n",
              "      <td>233.0</td>\n",
              "      <td>1.0</td>\n",
              "      <td>2.0</td>\n",
              "      <td>150.0</td>\n",
              "      <td>0.0</td>\n",
              "      <td>2.3</td>\n",
              "      <td>3.0</td>\n",
              "      <td>0.0</td>\n",
              "      <td>6.0</td>\n",
              "      <td>0</td>\n",
              "    </tr>\n",
              "    <tr>\n",
              "      <th>1</th>\n",
              "      <td>67.0</td>\n",
              "      <td>1.0</td>\n",
              "      <td>4.0</td>\n",
              "      <td>160.0</td>\n",
              "      <td>286.0</td>\n",
              "      <td>0.0</td>\n",
              "      <td>2.0</td>\n",
              "      <td>108.0</td>\n",
              "      <td>1.0</td>\n",
              "      <td>1.5</td>\n",
              "      <td>2.0</td>\n",
              "      <td>3.0</td>\n",
              "      <td>3.0</td>\n",
              "      <td>2</td>\n",
              "    </tr>\n",
              "    <tr>\n",
              "      <th>2</th>\n",
              "      <td>67.0</td>\n",
              "      <td>1.0</td>\n",
              "      <td>4.0</td>\n",
              "      <td>120.0</td>\n",
              "      <td>229.0</td>\n",
              "      <td>0.0</td>\n",
              "      <td>2.0</td>\n",
              "      <td>129.0</td>\n",
              "      <td>1.0</td>\n",
              "      <td>2.6</td>\n",
              "      <td>2.0</td>\n",
              "      <td>2.0</td>\n",
              "      <td>7.0</td>\n",
              "      <td>1</td>\n",
              "    </tr>\n",
              "    <tr>\n",
              "      <th>3</th>\n",
              "      <td>37.0</td>\n",
              "      <td>1.0</td>\n",
              "      <td>3.0</td>\n",
              "      <td>130.0</td>\n",
              "      <td>250.0</td>\n",
              "      <td>0.0</td>\n",
              "      <td>0.0</td>\n",
              "      <td>187.0</td>\n",
              "      <td>0.0</td>\n",
              "      <td>3.5</td>\n",
              "      <td>3.0</td>\n",
              "      <td>0.0</td>\n",
              "      <td>3.0</td>\n",
              "      <td>0</td>\n",
              "    </tr>\n",
              "    <tr>\n",
              "      <th>4</th>\n",
              "      <td>41.0</td>\n",
              "      <td>0.0</td>\n",
              "      <td>2.0</td>\n",
              "      <td>130.0</td>\n",
              "      <td>204.0</td>\n",
              "      <td>0.0</td>\n",
              "      <td>2.0</td>\n",
              "      <td>172.0</td>\n",
              "      <td>0.0</td>\n",
              "      <td>1.4</td>\n",
              "      <td>1.0</td>\n",
              "      <td>0.0</td>\n",
              "      <td>3.0</td>\n",
              "      <td>0</td>\n",
              "    </tr>\n",
              "  </tbody>\n",
              "</table>\n",
              "</div>"
            ],
            "text/plain": [
              "    age  sex   cp  restbp   chol  fbs  ...  exang  oldpeak  slope   ca  thal hd\n",
              "0  63.0  1.0  1.0   145.0  233.0  1.0  ...    0.0      2.3    3.0  0.0   6.0  0\n",
              "1  67.0  1.0  4.0   160.0  286.0  0.0  ...    1.0      1.5    2.0  3.0   3.0  2\n",
              "2  67.0  1.0  4.0   120.0  229.0  0.0  ...    1.0      2.6    2.0  2.0   7.0  1\n",
              "3  37.0  1.0  3.0   130.0  250.0  0.0  ...    0.0      3.5    3.0  0.0   3.0  0\n",
              "4  41.0  0.0  2.0   130.0  204.0  0.0  ...    0.0      1.4    1.0  0.0   3.0  0\n",
              "\n",
              "[5 rows x 14 columns]"
            ]
          },
          "metadata": {
            "tags": []
          },
          "execution_count": 5
        }
      ]
    },
    {
      "cell_type": "markdown",
      "metadata": {
        "id": "kI3nLmSs5r_Q"
      },
      "source": [
        "We have replaced the column numbers with nice, easy to remember names. Now that we have the data in a **dataframe** called **df**."
      ]
    },
    {
      "cell_type": "code",
      "metadata": {
        "colab": {
          "base_uri": "https://localhost:8080/"
        },
        "id": "oDchge1I5_dq",
        "outputId": "8787e3a4-3ca3-4af0-8d1d-ff862b01926a"
      },
      "source": [
        "# Check the shape of the dataframe using .shape attribute which shows the total no.of rows and columns \n",
        "df.shape"
      ],
      "execution_count": 6,
      "outputs": [
        {
          "output_type": "execute_result",
          "data": {
            "text/plain": [
              "(303, 14)"
            ]
          },
          "metadata": {
            "tags": []
          },
          "execution_count": 6
        }
      ]
    },
    {
      "cell_type": "markdown",
      "metadata": {
        "id": "oI-B21_f6XJY"
      },
      "source": [
        "The dataset contains of 303 rows(samples) and 14 columns(features)"
      ]
    },
    {
      "cell_type": "markdown",
      "metadata": {
        "id": "9hLG3asH6pSB"
      },
      "source": [
        "To display the statistical analysis we use **describe()** function"
      ]
    },
    {
      "cell_type": "code",
      "metadata": {
        "colab": {
          "base_uri": "https://localhost:8080/",
          "height": 297
        },
        "id": "t2POzr206yGC",
        "outputId": "9bdc580d-454c-434b-9994-81eddd17930d"
      },
      "source": [
        "df.describe()"
      ],
      "execution_count": 7,
      "outputs": [
        {
          "output_type": "execute_result",
          "data": {
            "text/html": [
              "<div>\n",
              "<style scoped>\n",
              "    .dataframe tbody tr th:only-of-type {\n",
              "        vertical-align: middle;\n",
              "    }\n",
              "\n",
              "    .dataframe tbody tr th {\n",
              "        vertical-align: top;\n",
              "    }\n",
              "\n",
              "    .dataframe thead th {\n",
              "        text-align: right;\n",
              "    }\n",
              "</style>\n",
              "<table border=\"1\" class=\"dataframe\">\n",
              "  <thead>\n",
              "    <tr style=\"text-align: right;\">\n",
              "      <th></th>\n",
              "      <th>age</th>\n",
              "      <th>sex</th>\n",
              "      <th>cp</th>\n",
              "      <th>restbp</th>\n",
              "      <th>chol</th>\n",
              "      <th>fbs</th>\n",
              "      <th>restecg</th>\n",
              "      <th>thalach</th>\n",
              "      <th>exang</th>\n",
              "      <th>oldpeak</th>\n",
              "      <th>slope</th>\n",
              "      <th>hd</th>\n",
              "    </tr>\n",
              "  </thead>\n",
              "  <tbody>\n",
              "    <tr>\n",
              "      <th>count</th>\n",
              "      <td>303.000000</td>\n",
              "      <td>303.000000</td>\n",
              "      <td>303.000000</td>\n",
              "      <td>303.000000</td>\n",
              "      <td>303.000000</td>\n",
              "      <td>303.000000</td>\n",
              "      <td>303.000000</td>\n",
              "      <td>303.000000</td>\n",
              "      <td>303.000000</td>\n",
              "      <td>303.000000</td>\n",
              "      <td>303.000000</td>\n",
              "      <td>303.000000</td>\n",
              "    </tr>\n",
              "    <tr>\n",
              "      <th>mean</th>\n",
              "      <td>54.438944</td>\n",
              "      <td>0.679868</td>\n",
              "      <td>3.158416</td>\n",
              "      <td>131.689769</td>\n",
              "      <td>246.693069</td>\n",
              "      <td>0.148515</td>\n",
              "      <td>0.990099</td>\n",
              "      <td>149.607261</td>\n",
              "      <td>0.326733</td>\n",
              "      <td>1.039604</td>\n",
              "      <td>1.600660</td>\n",
              "      <td>0.937294</td>\n",
              "    </tr>\n",
              "    <tr>\n",
              "      <th>std</th>\n",
              "      <td>9.038662</td>\n",
              "      <td>0.467299</td>\n",
              "      <td>0.960126</td>\n",
              "      <td>17.599748</td>\n",
              "      <td>51.776918</td>\n",
              "      <td>0.356198</td>\n",
              "      <td>0.994971</td>\n",
              "      <td>22.875003</td>\n",
              "      <td>0.469794</td>\n",
              "      <td>1.161075</td>\n",
              "      <td>0.616226</td>\n",
              "      <td>1.228536</td>\n",
              "    </tr>\n",
              "    <tr>\n",
              "      <th>min</th>\n",
              "      <td>29.000000</td>\n",
              "      <td>0.000000</td>\n",
              "      <td>1.000000</td>\n",
              "      <td>94.000000</td>\n",
              "      <td>126.000000</td>\n",
              "      <td>0.000000</td>\n",
              "      <td>0.000000</td>\n",
              "      <td>71.000000</td>\n",
              "      <td>0.000000</td>\n",
              "      <td>0.000000</td>\n",
              "      <td>1.000000</td>\n",
              "      <td>0.000000</td>\n",
              "    </tr>\n",
              "    <tr>\n",
              "      <th>25%</th>\n",
              "      <td>48.000000</td>\n",
              "      <td>0.000000</td>\n",
              "      <td>3.000000</td>\n",
              "      <td>120.000000</td>\n",
              "      <td>211.000000</td>\n",
              "      <td>0.000000</td>\n",
              "      <td>0.000000</td>\n",
              "      <td>133.500000</td>\n",
              "      <td>0.000000</td>\n",
              "      <td>0.000000</td>\n",
              "      <td>1.000000</td>\n",
              "      <td>0.000000</td>\n",
              "    </tr>\n",
              "    <tr>\n",
              "      <th>50%</th>\n",
              "      <td>56.000000</td>\n",
              "      <td>1.000000</td>\n",
              "      <td>3.000000</td>\n",
              "      <td>130.000000</td>\n",
              "      <td>241.000000</td>\n",
              "      <td>0.000000</td>\n",
              "      <td>1.000000</td>\n",
              "      <td>153.000000</td>\n",
              "      <td>0.000000</td>\n",
              "      <td>0.800000</td>\n",
              "      <td>2.000000</td>\n",
              "      <td>0.000000</td>\n",
              "    </tr>\n",
              "    <tr>\n",
              "      <th>75%</th>\n",
              "      <td>61.000000</td>\n",
              "      <td>1.000000</td>\n",
              "      <td>4.000000</td>\n",
              "      <td>140.000000</td>\n",
              "      <td>275.000000</td>\n",
              "      <td>0.000000</td>\n",
              "      <td>2.000000</td>\n",
              "      <td>166.000000</td>\n",
              "      <td>1.000000</td>\n",
              "      <td>1.600000</td>\n",
              "      <td>2.000000</td>\n",
              "      <td>2.000000</td>\n",
              "    </tr>\n",
              "    <tr>\n",
              "      <th>max</th>\n",
              "      <td>77.000000</td>\n",
              "      <td>1.000000</td>\n",
              "      <td>4.000000</td>\n",
              "      <td>200.000000</td>\n",
              "      <td>564.000000</td>\n",
              "      <td>1.000000</td>\n",
              "      <td>2.000000</td>\n",
              "      <td>202.000000</td>\n",
              "      <td>1.000000</td>\n",
              "      <td>6.200000</td>\n",
              "      <td>3.000000</td>\n",
              "      <td>4.000000</td>\n",
              "    </tr>\n",
              "  </tbody>\n",
              "</table>\n",
              "</div>"
            ],
            "text/plain": [
              "              age         sex          cp  ...     oldpeak       slope          hd\n",
              "count  303.000000  303.000000  303.000000  ...  303.000000  303.000000  303.000000\n",
              "mean    54.438944    0.679868    3.158416  ...    1.039604    1.600660    0.937294\n",
              "std      9.038662    0.467299    0.960126  ...    1.161075    0.616226    1.228536\n",
              "min     29.000000    0.000000    1.000000  ...    0.000000    1.000000    0.000000\n",
              "25%     48.000000    0.000000    3.000000  ...    0.000000    1.000000    0.000000\n",
              "50%     56.000000    1.000000    3.000000  ...    0.800000    2.000000    0.000000\n",
              "75%     61.000000    1.000000    4.000000  ...    1.600000    2.000000    2.000000\n",
              "max     77.000000    1.000000    4.000000  ...    6.200000    3.000000    4.000000\n",
              "\n",
              "[8 rows x 12 columns]"
            ]
          },
          "metadata": {
            "tags": []
          },
          "execution_count": 7
        }
      ]
    },
    {
      "cell_type": "markdown",
      "metadata": {
        "id": "VIdjkdLH70oP"
      },
      "source": [
        "## Data Handling\n",
        "## 1. Identifying Missing Data\n",
        "The biggest part of any data analysis project is making sure that the data is correctly formatted and fixing it when it is not. the first part of this process si identifying and dealing with **Missing Data**.\n",
        "\n",
        "**Missing Data** is simply a blank space, or a surrogate value like **NA**, that indicates that we failed to collect data for one of the features. For example, if we forgot to ask someone's age, or forgot to write it down, then we would have a blank space in the dataset for that person's age.\n",
        "\n",
        "There are two main ways to deal with missing data:\n",
        "1. We can remove the rows that contain missing data from the dataset. This is relatively easy to do, but it wastes all of the other values that we collected. How a big of a waste this is depends on how important this missing value is for classification. For example, if we are missing a value for **age**, and **age** is not useful for classifying if people have heart disease or not, then it is not appropriate to throw out all of someone's data just because we do not have their **age**.\n",
        "2. We can **impute** the values that are missing. In this context **impute** is just a fancy way of saying \"we can make an educated guess about what the value should be\". Continuing our example where we are missing a value for **age**, instead of throwing out the entire row of data, we can fill the missing value with the **average age** or **median age**, or use some other, more sophisticated approach, to guess at an appropriate value.\n",
        "\n",
        "In this section, we'll focus on identifying missing values in the dataset.\n",
        "\n",
        "First, let's see what sort of data in each column."
      ]
    },
    {
      "cell_type": "code",
      "metadata": {
        "colab": {
          "base_uri": "https://localhost:8080/"
        },
        "id": "N-XD_d-j9j1n",
        "outputId": "e47e3b42-270d-4960-cacc-ffa734d0006f"
      },
      "source": [
        "# info() function gives us the entire information about the data\n",
        "df.info()"
      ],
      "execution_count": 8,
      "outputs": [
        {
          "output_type": "stream",
          "text": [
            "<class 'pandas.core.frame.DataFrame'>\n",
            "RangeIndex: 303 entries, 0 to 302\n",
            "Data columns (total 14 columns):\n",
            " #   Column   Non-Null Count  Dtype  \n",
            "---  ------   --------------  -----  \n",
            " 0   age      303 non-null    float64\n",
            " 1   sex      303 non-null    float64\n",
            " 2   cp       303 non-null    float64\n",
            " 3   restbp   303 non-null    float64\n",
            " 4   chol     303 non-null    float64\n",
            " 5   fbs      303 non-null    float64\n",
            " 6   restecg  303 non-null    float64\n",
            " 7   thalach  303 non-null    float64\n",
            " 8   exang    303 non-null    float64\n",
            " 9   oldpeak  303 non-null    float64\n",
            " 10  slope    303 non-null    float64\n",
            " 11  ca       303 non-null    object \n",
            " 12  thal     303 non-null    object \n",
            " 13  hd       303 non-null    int64  \n",
            "dtypes: float64(11), int64(1), object(2)\n",
            "memory usage: 33.3+ KB\n"
          ],
          "name": "stdout"
        }
      ]
    },
    {
      "cell_type": "markdown",
      "metadata": {
        "id": "evqIBL1--uAg"
      },
      "source": [
        "We see that they are almost all **float64**, however, two columns, **ca** and **thal**, have the **object** type and one column, **hd** has **int64**.\n",
        "\n",
        "**Object** datatypes are used when there are mixtures of things, like a mixture of numbers and letters. Both **ca** and **thal** should just have a few values representing defferent categories, so let's investigate what's going on by printing out their unique values. We'll start with **ca**."
      ]
    },
    {
      "cell_type": "code",
      "metadata": {
        "colab": {
          "base_uri": "https://localhost:8080/"
        },
        "id": "K3YLJchm9-lt",
        "outputId": "ce4231f7-3ff8-4682-9ac0-7806f11b93c4"
      },
      "source": [
        "# dtypes tells us the \"data type\" for each column\n",
        "df.dtypes"
      ],
      "execution_count": 9,
      "outputs": [
        {
          "output_type": "execute_result",
          "data": {
            "text/plain": [
              "age        float64\n",
              "sex        float64\n",
              "cp         float64\n",
              "restbp     float64\n",
              "chol       float64\n",
              "fbs        float64\n",
              "restecg    float64\n",
              "thalach    float64\n",
              "exang      float64\n",
              "oldpeak    float64\n",
              "slope      float64\n",
              "ca          object\n",
              "thal        object\n",
              "hd           int64\n",
              "dtype: object"
            ]
          },
          "metadata": {
            "tags": []
          },
          "execution_count": 9
        }
      ]
    },
    {
      "cell_type": "code",
      "metadata": {
        "colab": {
          "base_uri": "https://localhost:8080/"
        },
        "id": "rsb-wZTP-iMD",
        "outputId": "c7b01a34-b91e-44ae-c533-ad9142883112"
      },
      "source": [
        "## Print out unique values in the column called \"ca\"\n",
        "df['ca'].unique()"
      ],
      "execution_count": 10,
      "outputs": [
        {
          "output_type": "execute_result",
          "data": {
            "text/plain": [
              "array(['0.0', '3.0', '2.0', '1.0', '?'], dtype=object)"
            ]
          },
          "metadata": {
            "tags": []
          },
          "execution_count": 10
        }
      ]
    },
    {
      "cell_type": "markdown",
      "metadata": {
        "id": "GlEr4UTnBrOQ"
      },
      "source": [
        "We see that **ca** contains numbers (0.0, 3.0, 2.0 and 1.0) and question marks (?). The numbers represent the number of blood vessenls that we lit up by fluoroscopy and the question marks represent **Missing Data**.\n",
        "\n",
        "Now let's look at the unique values in **thal**."
      ]
    },
    {
      "cell_type": "code",
      "metadata": {
        "colab": {
          "base_uri": "https://localhost:8080/"
        },
        "id": "_hu1LbkyBG-B",
        "outputId": "29e84d2e-e55b-481a-f371-b932e7587537"
      },
      "source": [
        "# Print out unique values in the column called \"thal\"\n",
        "df['thal'].unique()"
      ],
      "execution_count": 11,
      "outputs": [
        {
          "output_type": "execute_result",
          "data": {
            "text/plain": [
              "array(['6.0', '3.0', '7.0', '?'], dtype=object)"
            ]
          },
          "metadata": {
            "tags": []
          },
          "execution_count": 11
        }
      ]
    },
    {
      "cell_type": "markdown",
      "metadata": {
        "id": "eVYq215JCpUR"
      },
      "source": [
        "Again, **thal** also contains a mixture of numbers, representing the different diagnoses from the thalium heart scan, and question marks, which represent missing values.\n",
        "\n",
        "Now that we have identified some missing values, we need to deal with them."
      ]
    },
    {
      "cell_type": "markdown",
      "metadata": {
        "id": "EdkLUVFoDG6Q"
      },
      "source": [
        "## 2. Dealing with Missing Data\n",
        "Since scikit-learn's classification trees do not support datasets with missing values, we need to figure out what to do these question marks. we can wither delete these patients from the training dataset, or impute values for the missing data. First let's see how many rows cantain missing values."
      ]
    },
    {
      "cell_type": "code",
      "metadata": {
        "colab": {
          "base_uri": "https://localhost:8080/"
        },
        "id": "xYdjc84eCfQK",
        "outputId": "ac7bf8b4-1e64-409a-f81b-1e7ac19c762d"
      },
      "source": [
        "# Print the number of rows that contain missing values.\n",
        "\n",
        "# loc[], short for 'location', let's us specify which rows we want...\n",
        "# and so we say we want any row with '?' in column 'ca'\n",
        "# OR \n",
        "# any row with '?' in column 'thal'\n",
        "\n",
        "# len(), short for 'length', prints out the number of rows\n",
        "\n",
        "len(df.loc[(df['ca'] == '?') | (df['thal'] == '?')])"
      ],
      "execution_count": 12,
      "outputs": [
        {
          "output_type": "execute_result",
          "data": {
            "text/plain": [
              "6"
            ]
          },
          "metadata": {
            "tags": []
          },
          "execution_count": 12
        }
      ]
    },
    {
      "cell_type": "markdown",
      "metadata": {
        "id": "B1slUGPeHVfA"
      },
      "source": [
        "Since only 6 rows have missing values, let's look at them."
      ]
    },
    {
      "cell_type": "code",
      "metadata": {
        "colab": {
          "base_uri": "https://localhost:8080/"
        },
        "id": "cWcggeW0FSYa",
        "outputId": "ba70b563-a475-4f3c-a328-e67261bf1b72"
      },
      "source": [
        "# Print out the rows that contain missing values.\n",
        "\n",
        "print(df.loc[(df['ca'] == '?') | (df['thal'] == '?')])"
      ],
      "execution_count": 13,
      "outputs": [
        {
          "output_type": "stream",
          "text": [
            "      age  sex   cp  restbp   chol  fbs  ...  exang  oldpeak  slope   ca  thal hd\n",
            "87   53.0  0.0  3.0   128.0  216.0  0.0  ...    0.0      0.0    1.0  0.0     ?  0\n",
            "166  52.0  1.0  3.0   138.0  223.0  0.0  ...    0.0      0.0    1.0    ?   3.0  0\n",
            "192  43.0  1.0  4.0   132.0  247.0  1.0  ...    1.0      0.1    2.0    ?   7.0  1\n",
            "266  52.0  1.0  4.0   128.0  204.0  1.0  ...    1.0      1.0    2.0  0.0     ?  2\n",
            "287  58.0  1.0  2.0   125.0  220.0  0.0  ...    0.0      0.4    2.0    ?   7.0  0\n",
            "302  38.0  1.0  3.0   138.0  175.0  0.0  ...    0.0      0.0    1.0    ?   3.0  0\n",
            "\n",
            "[6 rows x 14 columns]\n"
          ],
          "name": "stdout"
        }
      ]
    },
    {
      "cell_type": "markdown",
      "metadata": {
        "id": "S8b5aBipH4tQ"
      },
      "source": [
        "Now let's count the no. of rows in the full dataset."
      ]
    },
    {
      "cell_type": "code",
      "metadata": {
        "colab": {
          "base_uri": "https://localhost:8080/"
        },
        "id": "CQqIc19TH_wI",
        "outputId": "f60a611e-5abd-443d-d490-ff20fd02b0de"
      },
      "source": [
        "len(df)"
      ],
      "execution_count": 14,
      "outputs": [
        {
          "output_type": "execute_result",
          "data": {
            "text/plain": [
              "303"
            ]
          },
          "metadata": {
            "tags": []
          },
          "execution_count": 14
        }
      ]
    },
    {
      "cell_type": "markdown",
      "metadata": {
        "id": "3Tz9lYBBIe5q"
      },
      "source": [
        "So 6 of the 303 rows, or 2%, contain missing values. Since 303 - 6 = 297, and 297 is plenty of data to build a classification tree, we will remove the rows  with missing values, rather than try to impute their values.\n",
        "\n",
        "We remove the rows with missing values by selecting all of the rows that do not contain question marks in either the **ca** or **thal** columns:"
      ]
    },
    {
      "cell_type": "code",
      "metadata": {
        "id": "OIE3E1t4JqI0"
      },
      "source": [
        "# Use loc[] to select all rows that do not contain missing values\n",
        "# and save them in a new dataframe called \"df_no_missing\"\n",
        "\n",
        "df_no_missing = df.loc[(df['ca'] != '?') & (df['thal'] != '?')]"
      ],
      "execution_count": 15,
      "outputs": []
    },
    {
      "cell_type": "markdown",
      "metadata": {
        "id": "Rx0rwiW-Kd5Q"
      },
      "source": [
        "Since **df_no_missing** has 6 fewer rows than the original **df**, it should have **297** rows"
      ]
    },
    {
      "cell_type": "code",
      "metadata": {
        "colab": {
          "base_uri": "https://localhost:8080/"
        },
        "id": "68-SWmbtKbyg",
        "outputId": "224c63c8-8964-4f18-b2ae-a160a0c80d7b"
      },
      "source": [
        "len(df_no_missing)"
      ],
      "execution_count": 16,
      "outputs": [
        {
          "output_type": "execute_result",
          "data": {
            "text/plain": [
              "297"
            ]
          },
          "metadata": {
            "tags": []
          },
          "execution_count": 16
        }
      ]
    },
    {
      "cell_type": "markdown",
      "metadata": {
        "id": "QEguXTD8K_k1"
      },
      "source": [
        "We can also make sure **ca** no longer contains question marks by printing its unique values:"
      ]
    },
    {
      "cell_type": "code",
      "metadata": {
        "colab": {
          "base_uri": "https://localhost:8080/"
        },
        "id": "8cjpDGbNLNTK",
        "outputId": "94cff14a-0d6c-41d1-e28a-8f53e678d14a"
      },
      "source": [
        "df_no_missing['ca'].unique()"
      ],
      "execution_count": 17,
      "outputs": [
        {
          "output_type": "execute_result",
          "data": {
            "text/plain": [
              "array(['0.0', '3.0', '2.0', '1.0'], dtype=object)"
            ]
          },
          "metadata": {
            "tags": []
          },
          "execution_count": 17
        }
      ]
    },
    {
      "cell_type": "markdown",
      "metadata": {
        "id": "vJ6NfSo_LXE1"
      },
      "source": [
        "And we can also do the same thing for **thal**"
      ]
    },
    {
      "cell_type": "code",
      "metadata": {
        "colab": {
          "base_uri": "https://localhost:8080/"
        },
        "id": "pxjKVPy6LePp",
        "outputId": "1ee8de0e-0e1c-4239-9221-05cab5ef3f0f"
      },
      "source": [
        "df_no_missing['thal'].unique()"
      ],
      "execution_count": 18,
      "outputs": [
        {
          "output_type": "execute_result",
          "data": {
            "text/plain": [
              "array(['6.0', '3.0', '7.0'], dtype=object)"
            ]
          },
          "metadata": {
            "tags": []
          },
          "execution_count": 18
        }
      ]
    },
    {
      "cell_type": "markdown",
      "metadata": {
        "id": "h5puhosvLqM7"
      },
      "source": [
        "We have verified that **df_no_missing** does not contain any missing values. Now we are ready to format the data for making a **Classification Tree**."
      ]
    },
    {
      "cell_type": "markdown",
      "metadata": {
        "id": "m7PNkQEEMJE5"
      },
      "source": [
        "## Formatting Data\n",
        "## 1. Split the Data into Dependent and Independent Features\n",
        "The first step is to split the data into two parts:\n",
        "1. The columns of data that we will use to make classificatons.\n",
        "2. The column of data that we want to predict.\n",
        "\n",
        "We will use the conventional notation of **X** to represent the columns of data that we will use to make classifications and **y** to represent the thing we want to predict. In this case, we want to predict **hd** (heart disease).\n",
        "\n",
        "To extract the **Independent** and **Dependent** Features, we will use **iloc[ ]** method. It is used to extract the required rows and columns from the dataset."
      ]
    },
    {
      "cell_type": "code",
      "metadata": {
        "id": "s13cMjHoMAIs"
      },
      "source": [
        "# Extracting Independent Features\n",
        "\n",
        "X = df_no_missing.iloc[:,:-1]"
      ],
      "execution_count": 19,
      "outputs": []
    },
    {
      "cell_type": "markdown",
      "metadata": {
        "id": "GeZHhPlgSH7U"
      },
      "source": [
        "Let's check the first five rows of our Independent data"
      ]
    },
    {
      "cell_type": "code",
      "metadata": {
        "colab": {
          "base_uri": "https://localhost:8080/",
          "height": 211
        },
        "id": "9fZJfy5ESQDn",
        "outputId": "465699a2-6402-4345-f98a-d26fb94a3546"
      },
      "source": [
        "X.head()"
      ],
      "execution_count": 20,
      "outputs": [
        {
          "output_type": "execute_result",
          "data": {
            "text/html": [
              "<div>\n",
              "<style scoped>\n",
              "    .dataframe tbody tr th:only-of-type {\n",
              "        vertical-align: middle;\n",
              "    }\n",
              "\n",
              "    .dataframe tbody tr th {\n",
              "        vertical-align: top;\n",
              "    }\n",
              "\n",
              "    .dataframe thead th {\n",
              "        text-align: right;\n",
              "    }\n",
              "</style>\n",
              "<table border=\"1\" class=\"dataframe\">\n",
              "  <thead>\n",
              "    <tr style=\"text-align: right;\">\n",
              "      <th></th>\n",
              "      <th>age</th>\n",
              "      <th>sex</th>\n",
              "      <th>cp</th>\n",
              "      <th>restbp</th>\n",
              "      <th>chol</th>\n",
              "      <th>fbs</th>\n",
              "      <th>restecg</th>\n",
              "      <th>thalach</th>\n",
              "      <th>exang</th>\n",
              "      <th>oldpeak</th>\n",
              "      <th>slope</th>\n",
              "      <th>ca</th>\n",
              "      <th>thal</th>\n",
              "    </tr>\n",
              "  </thead>\n",
              "  <tbody>\n",
              "    <tr>\n",
              "      <th>0</th>\n",
              "      <td>63.0</td>\n",
              "      <td>1.0</td>\n",
              "      <td>1.0</td>\n",
              "      <td>145.0</td>\n",
              "      <td>233.0</td>\n",
              "      <td>1.0</td>\n",
              "      <td>2.0</td>\n",
              "      <td>150.0</td>\n",
              "      <td>0.0</td>\n",
              "      <td>2.3</td>\n",
              "      <td>3.0</td>\n",
              "      <td>0.0</td>\n",
              "      <td>6.0</td>\n",
              "    </tr>\n",
              "    <tr>\n",
              "      <th>1</th>\n",
              "      <td>67.0</td>\n",
              "      <td>1.0</td>\n",
              "      <td>4.0</td>\n",
              "      <td>160.0</td>\n",
              "      <td>286.0</td>\n",
              "      <td>0.0</td>\n",
              "      <td>2.0</td>\n",
              "      <td>108.0</td>\n",
              "      <td>1.0</td>\n",
              "      <td>1.5</td>\n",
              "      <td>2.0</td>\n",
              "      <td>3.0</td>\n",
              "      <td>3.0</td>\n",
              "    </tr>\n",
              "    <tr>\n",
              "      <th>2</th>\n",
              "      <td>67.0</td>\n",
              "      <td>1.0</td>\n",
              "      <td>4.0</td>\n",
              "      <td>120.0</td>\n",
              "      <td>229.0</td>\n",
              "      <td>0.0</td>\n",
              "      <td>2.0</td>\n",
              "      <td>129.0</td>\n",
              "      <td>1.0</td>\n",
              "      <td>2.6</td>\n",
              "      <td>2.0</td>\n",
              "      <td>2.0</td>\n",
              "      <td>7.0</td>\n",
              "    </tr>\n",
              "    <tr>\n",
              "      <th>3</th>\n",
              "      <td>37.0</td>\n",
              "      <td>1.0</td>\n",
              "      <td>3.0</td>\n",
              "      <td>130.0</td>\n",
              "      <td>250.0</td>\n",
              "      <td>0.0</td>\n",
              "      <td>0.0</td>\n",
              "      <td>187.0</td>\n",
              "      <td>0.0</td>\n",
              "      <td>3.5</td>\n",
              "      <td>3.0</td>\n",
              "      <td>0.0</td>\n",
              "      <td>3.0</td>\n",
              "    </tr>\n",
              "    <tr>\n",
              "      <th>4</th>\n",
              "      <td>41.0</td>\n",
              "      <td>0.0</td>\n",
              "      <td>2.0</td>\n",
              "      <td>130.0</td>\n",
              "      <td>204.0</td>\n",
              "      <td>0.0</td>\n",
              "      <td>2.0</td>\n",
              "      <td>172.0</td>\n",
              "      <td>0.0</td>\n",
              "      <td>1.4</td>\n",
              "      <td>1.0</td>\n",
              "      <td>0.0</td>\n",
              "      <td>3.0</td>\n",
              "    </tr>\n",
              "  </tbody>\n",
              "</table>\n",
              "</div>"
            ],
            "text/plain": [
              "    age  sex   cp  restbp   chol  fbs  ...  thalach  exang  oldpeak  slope   ca thal\n",
              "0  63.0  1.0  1.0   145.0  233.0  1.0  ...    150.0    0.0      2.3    3.0  0.0  6.0\n",
              "1  67.0  1.0  4.0   160.0  286.0  0.0  ...    108.0    1.0      1.5    2.0  3.0  3.0\n",
              "2  67.0  1.0  4.0   120.0  229.0  0.0  ...    129.0    1.0      2.6    2.0  2.0  7.0\n",
              "3  37.0  1.0  3.0   130.0  250.0  0.0  ...    187.0    0.0      3.5    3.0  0.0  3.0\n",
              "4  41.0  0.0  2.0   130.0  204.0  0.0  ...    172.0    0.0      1.4    1.0  0.0  3.0\n",
              "\n",
              "[5 rows x 13 columns]"
            ]
          },
          "metadata": {
            "tags": []
          },
          "execution_count": 20
        }
      ]
    },
    {
      "cell_type": "code",
      "metadata": {
        "id": "IvrWqt6ZRY48"
      },
      "source": [
        "# Extracting Dependent Features\n",
        "\n",
        "y = df_no_missing.iloc[:,-1]"
      ],
      "execution_count": 21,
      "outputs": []
    },
    {
      "cell_type": "markdown",
      "metadata": {
        "id": "f3MbIZrwR9Ur"
      },
      "source": [
        "Also, let's check the first five rows of Dependent data."
      ]
    },
    {
      "cell_type": "code",
      "metadata": {
        "colab": {
          "base_uri": "https://localhost:8080/"
        },
        "id": "wvvSikoRSska",
        "outputId": "ea99cf82-35c0-4e15-aec5-b638ccc900ab"
      },
      "source": [
        "y.head()"
      ],
      "execution_count": 22,
      "outputs": [
        {
          "output_type": "execute_result",
          "data": {
            "text/plain": [
              "0    0\n",
              "1    2\n",
              "2    1\n",
              "3    0\n",
              "4    0\n",
              "Name: hd, dtype: int64"
            ]
          },
          "metadata": {
            "tags": []
          },
          "execution_count": 22
        }
      ]
    },
    {
      "cell_type": "markdown",
      "metadata": {
        "id": "4ipzrnubTDTC"
      },
      "source": [
        "Now, let's continue formatting the data"
      ]
    },
    {
      "cell_type": "markdown",
      "metadata": {
        "id": "hKAfzCU4TPt4"
      },
      "source": [
        "## 2. One-Hot-Encoding\n",
        "Let's take a closure look at the features in **X**. The list below tells us what each feature represents and the type of data (**float** or **categorical**) it should contain:\n",
        "* **age, Float**\n",
        "* **sex, Category**\n",
        "  * 0 = female\n",
        "  * 1 = male\n",
        "* **cp**, chest pain, **Category**\n",
        "  * 1 = typical angina\n",
        "  * 2 = atypical angina\n",
        "  * 3 = non-anginal pain\n",
        "  * 4 = asymptomatic\n",
        "* **restbp**, resting blood pressure (in mm Hg), **Float**\n",
        "* **chol**, serum cholesterol in mg/dl, **Float**\n",
        "* **fbs**, fasting blood sugar, **Category**\n",
        "  * 0 = >=120 mg/dl\n",
        "  * 1 = < 120 mg/dl\n",
        "* **restecg** resting electrocardiographic results, **Category**\n",
        "  * 1 = normal\n",
        "  * 2 = having ST-T wave abnormality\n",
        "  * 3 = showing probable or definite left ventricular hypertrophy\n",
        "* **thalach**, maximum heart rate achieved, **Float**\n",
        "* **exang**, exercise induced angina, **Category**\n",
        "  * 0 = no\n",
        "  * 1 = yes\n",
        "* **oldpeak**, ST depression induced by exercise relative to rest, **Float**\n",
        "* **slope**, the slope of the peak exercise ST segment, **Category**\n",
        "  * 1 = upsloping\n",
        "  * 2 = flat\n",
        "  * 3 = downsloping\n",
        "* **ca**, number of major vessels (0-3) colored by fluoroscopy, **Float**\n",
        "* **thal**, thalium heart scan, **Category**\n",
        "  * 3 = normal (no cold spots)\n",
        "  * 6 = fixed defect (cold spots during rest and exercise)\n",
        "  * 7 = reversible defect (when sold spots only appear during excercise)\n",
        "\n",
        "Now, let's look at the data types in X to remember how python is seeing the data right now."
      ]
    },
    {
      "cell_type": "code",
      "metadata": {
        "colab": {
          "base_uri": "https://localhost:8080/"
        },
        "id": "PvMkn8YHY4yR",
        "outputId": "d6cf4d52-eb77-4b4c-85ca-292648067117"
      },
      "source": [
        "X.dtypes"
      ],
      "execution_count": 23,
      "outputs": [
        {
          "output_type": "execute_result",
          "data": {
            "text/plain": [
              "age        float64\n",
              "sex        float64\n",
              "cp         float64\n",
              "restbp     float64\n",
              "chol       float64\n",
              "fbs        float64\n",
              "restecg    float64\n",
              "thalach    float64\n",
              "exang      float64\n",
              "oldpeak    float64\n",
              "slope      float64\n",
              "ca          object\n",
              "thal        object\n",
              "dtype: object"
            ]
          },
          "metadata": {
            "tags": []
          },
          "execution_count": 23
        }
      ]
    },
    {
      "cell_type": "markdown",
      "metadata": {
        "id": "UA99qrQNY8nj"
      },
      "source": [
        "So, we see that **age, restbp, chol** and **thalach** are all **float64**, which is good, because we want them to be floating point numbers. All of the other columns, however, need to be inspected to make sure they only contain reasonable values, and some of them need to change. This is beacuse, while **scikit learn Decision Trees** natively support continuous data, like resting blood pressure (**restbp**) and maximum heart rate (**thalach**), they do not natively support categorical data, like chest pain (**cp**), which contains 4 different categories. Thus, in order to use categorical data with **scikit learn Decision Trees**, we have to use a trick that converts a column of categorical data into multiple columns of binaty values. This trick is called **One-Hot-Encoding**.\n",
        "\n"
      ]
    },
    {
      "cell_type": "markdown",
      "metadata": {
        "id": "sD3NP0oBdmaT"
      },
      "source": [
        "### What's wrong with treating categorical data like continuous data?\n",
        "For the **cp** (chest pain) column, we have 4 options:\n",
        "  * 1 = typical angina\n",
        "  * 2 = atypical angina\n",
        "  * 3 = non-anginal pain\n",
        "  * 4 = asymptomatic\n",
        "If we treated these values, 1,2,3 and 4, like continuous data, then we would assume that 4, which means \"asymptomatic\", is more similar to 3, which means \"non-anginal pain\", than it is to 1 or 2, which are other types of chest pain. That means the decision tree would be more likely to cluster the patients with 4s and 3s together than the patients with 4s and 1s together. In contrast, if we treat these numbers like categorical data, then we treat each one as a seperate category that is no more or less similar to any of the other categories. Thusm the likelihood of clustering patients with 4s with 3s is the same as clustering 4s with 1s, and that approach is more reasonable.\n",
        "\n",
        "Now let's inspect and, if needed, convert the columns that contain categorical and integer data into the correct datatypes. We'll start with **cp** (chest pain) by inspecting all of its unique values:"
      ]
    },
    {
      "cell_type": "code",
      "metadata": {
        "colab": {
          "base_uri": "https://localhost:8080/"
        },
        "id": "SOnFZFSGciom",
        "outputId": "37beeced-b391-4ce6-d395-5668ca1f0b50"
      },
      "source": [
        "X['cp'].unique()"
      ],
      "execution_count": 24,
      "outputs": [
        {
          "output_type": "execute_result",
          "data": {
            "text/plain": [
              "array([1., 4., 3., 2.])"
            ]
          },
          "metadata": {
            "tags": []
          },
          "execution_count": 24
        }
      ]
    },
    {
      "cell_type": "markdown",
      "metadata": {
        "id": "4OvTCSZompxH"
      },
      "source": [
        "Now, we will convert the values of **cp**, using **One-Hot-Encoding**, into a series of columns that contains only **0s** and **1s**.\n",
        "### Note:\n",
        "There are many different ways to do **One-Hot-Encoding** in Python. Two of the more popular methods are **ColumnTransformer()** (from **scikit-learn**) and **get_dummies()** (from **pandas**), and the both methods have pros and cons. ColumnTransformer() has a vert cool frature where it creates a persistent function that can validate data that uou get in the future. For example, if you build your **Decision Tree** using a categorical variable **favourite color** that has **red, blue** and **green** options, then ColumnTransformer() can remember those and later on when your **Decision Tree** is being used in a production system, if someone says their fourite color is **orange**, then ColumnTransformer() can throw an error or handle the sutuation in some other nice way. The downside of ColumnTransformer() is that it turns your data into an array and looses all of the column names, making it harder to verify that your usage of ColumnTransformer() worked as uou intended it to. In contrast, **get_dummies** leaves your data in a dataframe and retains the column names, making it much easier to verify that it worked as intended. However, it does not have the persistent behavior that ColumnTransformer() has. So, for the sake fo leanrning how **One-Hot Encoding** works, I prefer to use get_dummies(). However, once you are comfortable with **One-Hot Encoding**, I encourage you to investigate using ColumnTransformer().\n",
        "\n",
        "First, before we commit to converting **cp** with **One-Hot Encoding**, let's just see what happens when we convert **cp** without saving the results. This will make it easy to see how get_dummies() works.\n"
      ]
    },
    {
      "cell_type": "code",
      "metadata": {
        "colab": {
          "base_uri": "https://localhost:8080/",
          "height": 211
        },
        "id": "AotlaeWhrDHT",
        "outputId": "ef5d3d2b-1038-4fb4-8efe-85839d388d60"
      },
      "source": [
        "pd.get_dummies(X, columns = ['cp']).head()"
      ],
      "execution_count": 25,
      "outputs": [
        {
          "output_type": "execute_result",
          "data": {
            "text/html": [
              "<div>\n",
              "<style scoped>\n",
              "    .dataframe tbody tr th:only-of-type {\n",
              "        vertical-align: middle;\n",
              "    }\n",
              "\n",
              "    .dataframe tbody tr th {\n",
              "        vertical-align: top;\n",
              "    }\n",
              "\n",
              "    .dataframe thead th {\n",
              "        text-align: right;\n",
              "    }\n",
              "</style>\n",
              "<table border=\"1\" class=\"dataframe\">\n",
              "  <thead>\n",
              "    <tr style=\"text-align: right;\">\n",
              "      <th></th>\n",
              "      <th>age</th>\n",
              "      <th>sex</th>\n",
              "      <th>restbp</th>\n",
              "      <th>chol</th>\n",
              "      <th>fbs</th>\n",
              "      <th>restecg</th>\n",
              "      <th>thalach</th>\n",
              "      <th>exang</th>\n",
              "      <th>oldpeak</th>\n",
              "      <th>slope</th>\n",
              "      <th>ca</th>\n",
              "      <th>thal</th>\n",
              "      <th>cp_1.0</th>\n",
              "      <th>cp_2.0</th>\n",
              "      <th>cp_3.0</th>\n",
              "      <th>cp_4.0</th>\n",
              "    </tr>\n",
              "  </thead>\n",
              "  <tbody>\n",
              "    <tr>\n",
              "      <th>0</th>\n",
              "      <td>63.0</td>\n",
              "      <td>1.0</td>\n",
              "      <td>145.0</td>\n",
              "      <td>233.0</td>\n",
              "      <td>1.0</td>\n",
              "      <td>2.0</td>\n",
              "      <td>150.0</td>\n",
              "      <td>0.0</td>\n",
              "      <td>2.3</td>\n",
              "      <td>3.0</td>\n",
              "      <td>0.0</td>\n",
              "      <td>6.0</td>\n",
              "      <td>1</td>\n",
              "      <td>0</td>\n",
              "      <td>0</td>\n",
              "      <td>0</td>\n",
              "    </tr>\n",
              "    <tr>\n",
              "      <th>1</th>\n",
              "      <td>67.0</td>\n",
              "      <td>1.0</td>\n",
              "      <td>160.0</td>\n",
              "      <td>286.0</td>\n",
              "      <td>0.0</td>\n",
              "      <td>2.0</td>\n",
              "      <td>108.0</td>\n",
              "      <td>1.0</td>\n",
              "      <td>1.5</td>\n",
              "      <td>2.0</td>\n",
              "      <td>3.0</td>\n",
              "      <td>3.0</td>\n",
              "      <td>0</td>\n",
              "      <td>0</td>\n",
              "      <td>0</td>\n",
              "      <td>1</td>\n",
              "    </tr>\n",
              "    <tr>\n",
              "      <th>2</th>\n",
              "      <td>67.0</td>\n",
              "      <td>1.0</td>\n",
              "      <td>120.0</td>\n",
              "      <td>229.0</td>\n",
              "      <td>0.0</td>\n",
              "      <td>2.0</td>\n",
              "      <td>129.0</td>\n",
              "      <td>1.0</td>\n",
              "      <td>2.6</td>\n",
              "      <td>2.0</td>\n",
              "      <td>2.0</td>\n",
              "      <td>7.0</td>\n",
              "      <td>0</td>\n",
              "      <td>0</td>\n",
              "      <td>0</td>\n",
              "      <td>1</td>\n",
              "    </tr>\n",
              "    <tr>\n",
              "      <th>3</th>\n",
              "      <td>37.0</td>\n",
              "      <td>1.0</td>\n",
              "      <td>130.0</td>\n",
              "      <td>250.0</td>\n",
              "      <td>0.0</td>\n",
              "      <td>0.0</td>\n",
              "      <td>187.0</td>\n",
              "      <td>0.0</td>\n",
              "      <td>3.5</td>\n",
              "      <td>3.0</td>\n",
              "      <td>0.0</td>\n",
              "      <td>3.0</td>\n",
              "      <td>0</td>\n",
              "      <td>0</td>\n",
              "      <td>1</td>\n",
              "      <td>0</td>\n",
              "    </tr>\n",
              "    <tr>\n",
              "      <th>4</th>\n",
              "      <td>41.0</td>\n",
              "      <td>0.0</td>\n",
              "      <td>130.0</td>\n",
              "      <td>204.0</td>\n",
              "      <td>0.0</td>\n",
              "      <td>2.0</td>\n",
              "      <td>172.0</td>\n",
              "      <td>0.0</td>\n",
              "      <td>1.4</td>\n",
              "      <td>1.0</td>\n",
              "      <td>0.0</td>\n",
              "      <td>3.0</td>\n",
              "      <td>0</td>\n",
              "      <td>1</td>\n",
              "      <td>0</td>\n",
              "      <td>0</td>\n",
              "    </tr>\n",
              "  </tbody>\n",
              "</table>\n",
              "</div>"
            ],
            "text/plain": [
              "    age  sex  restbp   chol  fbs  ...  thal  cp_1.0  cp_2.0  cp_3.0  cp_4.0\n",
              "0  63.0  1.0   145.0  233.0  1.0  ...   6.0       1       0       0       0\n",
              "1  67.0  1.0   160.0  286.0  0.0  ...   3.0       0       0       0       1\n",
              "2  67.0  1.0   120.0  229.0  0.0  ...   7.0       0       0       0       1\n",
              "3  37.0  1.0   130.0  250.0  0.0  ...   3.0       0       0       1       0\n",
              "4  41.0  0.0   130.0  204.0  0.0  ...   3.0       0       1       0       0\n",
              "\n",
              "[5 rows x 16 columns]"
            ]
          },
          "metadata": {
            "tags": []
          },
          "execution_count": 25
        }
      ]
    },
    {
      "cell_type": "markdown",
      "metadata": {
        "id": "8VWgVswErSWR"
      },
      "source": [
        "As we can see, get_dummies() puts all of the columns it does not process in the front and it puts **cp** at the end. It also splits **cp** into 4 columns, just like we expected it. **cp_1.0** is 1 for any patient that scored a 1 for chest pain and 0 for all other patients. **cp_2.0** is 1 for any patient that scored 2 for chest pain and 0 for all other patients. **cp_3.0** is 1 for any patient that scored 3 for chest pain and **cp_4.0** is 1 for any patient that scored 4 for chest pain.\n",
        "\n",
        "Now that we see how get_dummies() works, let's use it on the four categorical columns that have more than 2 categories and save the result.\n",
        "\n",
        "After verifying all the categorical cloumns, we will use the get_dummies() method on these columns at a time."
      ]
    },
    {
      "cell_type": "code",
      "metadata": {
        "colab": {
          "base_uri": "https://localhost:8080/",
          "height": 211
        },
        "id": "9jo3-v5gt5v7",
        "outputId": "4a833dd6-8089-4aef-b7bd-6239f555efce"
      },
      "source": [
        "X_encoded = pd.get_dummies(X, columns = ['cp', 'restecg', 'slope', 'thal'], drop_first = True)\n",
        "\n",
        "X_encoded.head()"
      ],
      "execution_count": 26,
      "outputs": [
        {
          "output_type": "execute_result",
          "data": {
            "text/html": [
              "<div>\n",
              "<style scoped>\n",
              "    .dataframe tbody tr th:only-of-type {\n",
              "        vertical-align: middle;\n",
              "    }\n",
              "\n",
              "    .dataframe tbody tr th {\n",
              "        vertical-align: top;\n",
              "    }\n",
              "\n",
              "    .dataframe thead th {\n",
              "        text-align: right;\n",
              "    }\n",
              "</style>\n",
              "<table border=\"1\" class=\"dataframe\">\n",
              "  <thead>\n",
              "    <tr style=\"text-align: right;\">\n",
              "      <th></th>\n",
              "      <th>age</th>\n",
              "      <th>sex</th>\n",
              "      <th>restbp</th>\n",
              "      <th>chol</th>\n",
              "      <th>fbs</th>\n",
              "      <th>thalach</th>\n",
              "      <th>exang</th>\n",
              "      <th>oldpeak</th>\n",
              "      <th>ca</th>\n",
              "      <th>cp_2.0</th>\n",
              "      <th>cp_3.0</th>\n",
              "      <th>cp_4.0</th>\n",
              "      <th>restecg_1.0</th>\n",
              "      <th>restecg_2.0</th>\n",
              "      <th>slope_2.0</th>\n",
              "      <th>slope_3.0</th>\n",
              "      <th>thal_6.0</th>\n",
              "      <th>thal_7.0</th>\n",
              "    </tr>\n",
              "  </thead>\n",
              "  <tbody>\n",
              "    <tr>\n",
              "      <th>0</th>\n",
              "      <td>63.0</td>\n",
              "      <td>1.0</td>\n",
              "      <td>145.0</td>\n",
              "      <td>233.0</td>\n",
              "      <td>1.0</td>\n",
              "      <td>150.0</td>\n",
              "      <td>0.0</td>\n",
              "      <td>2.3</td>\n",
              "      <td>0.0</td>\n",
              "      <td>0</td>\n",
              "      <td>0</td>\n",
              "      <td>0</td>\n",
              "      <td>0</td>\n",
              "      <td>1</td>\n",
              "      <td>0</td>\n",
              "      <td>1</td>\n",
              "      <td>1</td>\n",
              "      <td>0</td>\n",
              "    </tr>\n",
              "    <tr>\n",
              "      <th>1</th>\n",
              "      <td>67.0</td>\n",
              "      <td>1.0</td>\n",
              "      <td>160.0</td>\n",
              "      <td>286.0</td>\n",
              "      <td>0.0</td>\n",
              "      <td>108.0</td>\n",
              "      <td>1.0</td>\n",
              "      <td>1.5</td>\n",
              "      <td>3.0</td>\n",
              "      <td>0</td>\n",
              "      <td>0</td>\n",
              "      <td>1</td>\n",
              "      <td>0</td>\n",
              "      <td>1</td>\n",
              "      <td>1</td>\n",
              "      <td>0</td>\n",
              "      <td>0</td>\n",
              "      <td>0</td>\n",
              "    </tr>\n",
              "    <tr>\n",
              "      <th>2</th>\n",
              "      <td>67.0</td>\n",
              "      <td>1.0</td>\n",
              "      <td>120.0</td>\n",
              "      <td>229.0</td>\n",
              "      <td>0.0</td>\n",
              "      <td>129.0</td>\n",
              "      <td>1.0</td>\n",
              "      <td>2.6</td>\n",
              "      <td>2.0</td>\n",
              "      <td>0</td>\n",
              "      <td>0</td>\n",
              "      <td>1</td>\n",
              "      <td>0</td>\n",
              "      <td>1</td>\n",
              "      <td>1</td>\n",
              "      <td>0</td>\n",
              "      <td>0</td>\n",
              "      <td>1</td>\n",
              "    </tr>\n",
              "    <tr>\n",
              "      <th>3</th>\n",
              "      <td>37.0</td>\n",
              "      <td>1.0</td>\n",
              "      <td>130.0</td>\n",
              "      <td>250.0</td>\n",
              "      <td>0.0</td>\n",
              "      <td>187.0</td>\n",
              "      <td>0.0</td>\n",
              "      <td>3.5</td>\n",
              "      <td>0.0</td>\n",
              "      <td>0</td>\n",
              "      <td>1</td>\n",
              "      <td>0</td>\n",
              "      <td>0</td>\n",
              "      <td>0</td>\n",
              "      <td>0</td>\n",
              "      <td>1</td>\n",
              "      <td>0</td>\n",
              "      <td>0</td>\n",
              "    </tr>\n",
              "    <tr>\n",
              "      <th>4</th>\n",
              "      <td>41.0</td>\n",
              "      <td>0.0</td>\n",
              "      <td>130.0</td>\n",
              "      <td>204.0</td>\n",
              "      <td>0.0</td>\n",
              "      <td>172.0</td>\n",
              "      <td>0.0</td>\n",
              "      <td>1.4</td>\n",
              "      <td>0.0</td>\n",
              "      <td>1</td>\n",
              "      <td>0</td>\n",
              "      <td>0</td>\n",
              "      <td>0</td>\n",
              "      <td>1</td>\n",
              "      <td>0</td>\n",
              "      <td>0</td>\n",
              "      <td>0</td>\n",
              "      <td>0</td>\n",
              "    </tr>\n",
              "  </tbody>\n",
              "</table>\n",
              "</div>"
            ],
            "text/plain": [
              "    age  sex  restbp   chol  ...  slope_2.0  slope_3.0  thal_6.0  thal_7.0\n",
              "0  63.0  1.0   145.0  233.0  ...          0          1         1         0\n",
              "1  67.0  1.0   160.0  286.0  ...          1          0         0         0\n",
              "2  67.0  1.0   120.0  229.0  ...          1          0         0         1\n",
              "3  37.0  1.0   130.0  250.0  ...          0          1         0         0\n",
              "4  41.0  0.0   130.0  204.0  ...          0          0         0         0\n",
              "\n",
              "[5 rows x 18 columns]"
            ]
          },
          "metadata": {
            "tags": []
          },
          "execution_count": 26
        }
      ]
    },
    {
      "cell_type": "markdown",
      "metadata": {
        "id": "UcDcWXdWu_YG"
      },
      "source": [
        "Here, we used **drop_first** attribute to get k-1 dummies out of k categorical levels by removing the first level."
      ]
    },
    {
      "cell_type": "code",
      "metadata": {
        "colab": {
          "base_uri": "https://localhost:8080/"
        },
        "id": "baWpm-lCwOoI",
        "outputId": "0bb94ae6-8181-467e-cb6a-e5bdde295cb4"
      },
      "source": [
        "# Checking the shape of X_encoded\n",
        "X_encoded.shape"
      ],
      "execution_count": 27,
      "outputs": [
        {
          "output_type": "execute_result",
          "data": {
            "text/plain": [
              "(297, 18)"
            ]
          },
          "metadata": {
            "tags": []
          },
          "execution_count": 27
        }
      ]
    },
    {
      "cell_type": "markdown",
      "metadata": {
        "id": "9msB0lVAwYr1"
      },
      "source": [
        "Now, we have 297 rows and 18 columns in our X_encoded dataset."
      ]
    },
    {
      "cell_type": "markdown",
      "metadata": {
        "id": "mPCXdSNlwmCC"
      },
      "source": [
        "Now we need to check the other 3 categorical columns that contain only **0**s and **1**s: **sex, fbs** (fasting blood sugar), and **exang** (exercise included angina). As we can see, **One-Hot Encoding** converts a columns with more than 2 categories, like **cp** (chest pain) into multiple columns of **0**s and **1**s. Since **sex, fbs** and **exang** only have 2 categories and only contain **0**s and **1**s to begin with, we do not have to do anything special to them, so we're done formatting the data for the **Classification Tree**\n",
        "### Note:\n",
        "In practice we would use unique() to verify that they contain only **0**s and **1**s."
      ]
    },
    {
      "cell_type": "markdown",
      "metadata": {
        "id": "ZTKTKxLnyLwC"
      },
      "source": [
        "Now, one last thing before we build a **Classification Tree**. The **Dependent** feature, **y**, doesn't just contain **0**s and **1**s. Instead, it has 5 different levels of heart disease. **0** = no heart disease and **1-4** are various degrees of heard disease. We can see this with unique():\n"
      ]
    },
    {
      "cell_type": "code",
      "metadata": {
        "colab": {
          "base_uri": "https://localhost:8080/"
        },
        "id": "sZbrCByly69V",
        "outputId": "a73ed8eb-fde4-4dfe-c42e-fa4ecbdadd9e"
      },
      "source": [
        "y.unique()"
      ],
      "execution_count": 28,
      "outputs": [
        {
          "output_type": "execute_result",
          "data": {
            "text/plain": [
              "array([0, 2, 1, 3, 4])"
            ]
          },
          "metadata": {
            "tags": []
          },
          "execution_count": 28
        }
      ]
    },
    {
      "cell_type": "markdown",
      "metadata": {
        "id": "vEI-wW1r3blV"
      },
      "source": [
        "In this notebook, we're only making a tree that does simple classification and only cares if someone has heart disease or not, so we need to convert all numbers **>0** to **1**."
      ]
    },
    {
      "cell_type": "code",
      "metadata": {
        "colab": {
          "base_uri": "https://localhost:8080/"
        },
        "id": "a2QXuJQm4Pow",
        "outputId": "4fe814c0-7adf-4dae-850c-049517ffc911"
      },
      "source": [
        "# Get the index for each non-zero value in y\n",
        "y_not_zero_index = y > 0\n",
        "y_not_zero_index.head()"
      ],
      "execution_count": 30,
      "outputs": [
        {
          "output_type": "execute_result",
          "data": {
            "text/plain": [
              "0    False\n",
              "1     True\n",
              "2     True\n",
              "3    False\n",
              "4    False\n",
              "Name: hd, dtype: bool"
            ]
          },
          "metadata": {
            "tags": []
          },
          "execution_count": 30
        }
      ]
    },
    {
      "cell_type": "markdown",
      "metadata": {
        "id": "1_8AoGxh5sEP"
      },
      "source": [
        "y_not_zero_index contains a boolean value **False** for level **0** and **True** for levels **1-4**."
      ]
    },
    {
      "cell_type": "code",
      "metadata": {
        "colab": {
          "base_uri": "https://localhost:8080/"
        },
        "id": "8PmESKEL6usT",
        "outputId": "d6c66621-7a66-4239-db83-ed80c31b245f"
      },
      "source": [
        "# Set each non-zero value in y to 1\n",
        "y[y_not_zero_index] = 1"
      ],
      "execution_count": 31,
      "outputs": [
        {
          "output_type": "stream",
          "text": [
            "/usr/local/lib/python3.7/dist-packages/ipykernel_launcher.py:2: SettingWithCopyWarning: \n",
            "A value is trying to be set on a copy of a slice from a DataFrame\n",
            "\n",
            "See the caveats in the documentation: https://pandas.pydata.org/pandas-docs/stable/user_guide/indexing.html#returning-a-view-versus-a-copy\n",
            "  \n"
          ],
          "name": "stderr"
        }
      ]
    },
    {
      "cell_type": "code",
      "metadata": {
        "colab": {
          "base_uri": "https://localhost:8080/"
        },
        "id": "JsxakBnj7vR_",
        "outputId": "cf6f1bda-2908-4692-a8c3-85b950d1cf4d"
      },
      "source": [
        "y.unique()"
      ],
      "execution_count": 32,
      "outputs": [
        {
          "output_type": "execute_result",
          "data": {
            "text/plain": [
              "array([0, 1])"
            ]
          },
          "metadata": {
            "tags": []
          },
          "execution_count": 32
        }
      ]
    },
    {
      "cell_type": "markdown",
      "metadata": {
        "id": "U9XwAgq49i6E"
      },
      "source": [
        "We have finished formatting the data for making a **Classification Tree**."
      ]
    },
    {
      "cell_type": "markdown",
      "metadata": {
        "id": "G_aByDRZ-yqn"
      },
      "source": [
        "## Splitting the Data into Training set and Test set\n",
        "Splitting the data is one of the crucial steps of data preprocessing as by doing this, we can enhance the performance of our machine learning model.\n",
        "\n",
        "Suppose, if we have given training to our machine learning model by a dataset and we test it by a completely different dataset. Then, it will create difficulties for our model to understand the correlations between the models.\n",
        "\n",
        "If we train our model very well and its training accuracy is also very high, but we provide a new dataset to it, then it will decrease the performance. So we always try to make a machine learning model which performs well with the training set and also with the test dataset.\n",
        "\n",
        "For splitting the dataset, we will use **train_test_split** class of **sklearn.model_selection**."
      ]
    },
    {
      "cell_type": "code",
      "metadata": {
        "id": "GJPz8B-9AwJQ"
      },
      "source": [
        "# Importing train_test_split from sklearn.model_selection \n",
        "from sklearn.model_selection import train_test_split\n",
        "\n",
        "# Splitting the data into Training set and Test set\n",
        "X_train, X_test, y_train, y_test = train_test_split(X_encoded, y, random_state = 42)"
      ],
      "execution_count": 40,
      "outputs": []
    },
    {
      "cell_type": "markdown",
      "metadata": {
        "id": "junTd3KbZNTj"
      },
      "source": [
        "## Build A Preliminary Classification Tree\n",
        "At long last, the data is correctly formatted for making a **Classification Tree**. \n",
        "### Fitting a Decision-Tree algorithm to the Training set\n",
        "Now we will fit the model to the training set. For this, we will import the **DecisionTreeClassifier** class from **sklearn.tree** library. Below is the code for it:"
      ]
    },
    {
      "cell_type": "code",
      "metadata": {
        "id": "XUbAtlvKZ_cU"
      },
      "source": [
        "# Importing DecisionTreeClassifier\n",
        "from sklearn.tree import DecisionTreeClassifier\n",
        "\n",
        "# Creating DecisionTreeClassifier object\n",
        "clf = DecisionTreeClassifier(random_state = 42)\n",
        "\n",
        "# Fitting Decision Tree classifier to the training set  \n",
        "clf = clf.fit(X_train, y_train)"
      ],
      "execution_count": 41,
      "outputs": []
    },
    {
      "cell_type": "markdown",
      "metadata": {
        "id": "uIVopX3pbUp-"
      },
      "source": [
        "### Note:\n",
        "We can plot the tree and it is huge!\n",
        "\n",
        "To plot the tree we will use **plot_tree** function from **sklearn** library"
      ]
    },
    {
      "cell_type": "code",
      "metadata": {
        "colab": {
          "base_uri": "https://localhost:8080/",
          "height": 328
        },
        "id": "RDlkpYVibQx4",
        "outputId": "c0497911-81f6-4225-80de-d84713604a6c"
      },
      "source": [
        "plt.figure(figsize = (15, 7.5))\n",
        "plot_tree(clf, filled = True, rounded = True,\n",
        "          class_names = [\"No HD\", \"Yes HD\"],\n",
        "          feature_names = X_encoded.columns);"
      ],
      "execution_count": 44,
      "outputs": [
        {
          "output_type": "display_data",
          "data": {
            "image/png": "[encoded data removed]",
            "text/plain": [
              "<Figure size 1080x540 with 1 Axes>"
            ]
          },
          "metadata": {
            "tags": [],
            "needs_background": "light"
          }
        }
      ]
    },
    {
      "cell_type": "markdown",
      "metadata": {
        "id": "ihAAWh4jf1ts"
      },
      "source": [
        "We've built a **Classification Tree** for classification. Let's see how it performs on the **Test set** down the tree and drawing a **Confusion Matrix**."
      ]
    },
    {
      "cell_type": "code",
      "metadata": {
        "colab": {
          "base_uri": "https://localhost:8080/",
          "height": 298
        },
        "id": "ZK4MOKYmgSOE",
        "outputId": "d9150794-a281-4058-babb-1e5c5eacab70"
      },
      "source": [
        "# plot_confusion_matrix() will run the test data down the tree and draw a confusion matrix\n",
        "\n",
        "plot_confusion_matrix(clf, X_test, y_test, display_labels = ['Does not have HD', 'Has HD'])\n"
      ],
      "execution_count": 45,
      "outputs": [
        {
          "output_type": "execute_result",
          "data": {
            "text/plain": [
              "<sklearn.metrics._plot.confusion_matrix.ConfusionMatrixDisplay at 0x7ff6a9abf210>"
            ]
          },
          "metadata": {
            "tags": []
          },
          "execution_count": 45
        },
        {
          "output_type": "display_data",
          "data": {
            "image/png": "[encoded data removed]",
            "text/plain": [
              "<Figure size 432x288 with 2 Axes>"
            ]
          },
          "metadata": {
            "tags": [],
            "needs_background": "light"
          }
        }
      ]
    },
    {
      "cell_type": "markdown",
      "metadata": {
        "id": "XZAck3lphnb4"
      },
      "source": [
        "In the confusion matrix, we see that of the **30 + 12 = 42** people that did not have **Heart Disease, 30** were correctly calssified. And of the **5 + 28 = 33** people the have **Heart Disease, 28** were correctly classified. \n",
        "\n",
        "**Can we do better?**\n",
        "One thing that might be holding this **Classification Tree** back is that it may **overfit** the training set. So let's prune the tree. Pruning, in therory, should solve the overfitting problem and give us better results."
      ]
    },
    {
      "cell_type": "markdown",
      "metadata": {
        "id": "0TFbXeK6jHIl"
      },
      "source": [
        "## Cost Complexity Pruning\n",
        "## 1. Visualize alpha\n",
        "**Decission Trees** are notorious for being **overfit** to the training set, and there are a lot of parameters, like **max_depth** and **min_samples**, that are designed to reduce overfitting. However, pruning a tree with **cost complexity pruning** can simply the whole process of finding a smaller tree that improves the accuracy with the testing set.\n",
        "\n",
        "Pruning a decision tree is all about finding the right value for the pruning parameter, **alpha**, which controls how little or how much pruning happens. One way to find the optimal value for **alpha** is to plot the accuracy of the tree as a function of different values. We'll do this for both the Training set and the Test set.\n",
        "\n",
        "First, let's extract the different values of **alpha** that are available for this tree and build a pruned tree for each value for **alpha**. \n",
        "### Note:\n",
        "We omit the maximum value for alpha with **ccp_alphas = ccp_alphas[:-1]** because it would prune all leaves, leaving us with only a root instead of a tree."
      ]
    },
    {
      "cell_type": "code",
      "metadata": {
        "id": "wezW8e8mA0xH"
      },
      "source": [
        "# Determine values for alpha\n",
        "path = clf.cost_complexity_pruning_path(X_train, y_train)\n",
        "\n",
        "# Extract different values for alpha\n",
        "ccp_alphas = path.ccp_alphas\n",
        "\n",
        "# Exclude the maximum value for alpha\n",
        "ccp_alphas = ccp_alphas[:-1]\n",
        "\n",
        "# Create an array that we will put decision trees into\n",
        "clfs = []\n",
        "\n",
        "# Now create one decision tree per value for alpha and store it in the array\n",
        "for ccp_alpha in ccp_alphas:\n",
        "  clf = DecisionTreeClassifier(random_state = 0, ccp_alpha = ccp_alpha)\n",
        "  clf.fit(X_train, y_train)\n",
        "  clfs.append(clf)"
      ],
      "execution_count": 46,
      "outputs": []
    },
    {
      "cell_type": "markdown",
      "metadata": {
        "id": "AizmzwLNn4zw"
      },
      "source": [
        "Now let's graph the accuracy of the trees using the **Training set** and the **Test set** as a function of alpha."
      ]
    },
    {
      "cell_type": "code",
      "metadata": {
        "colab": {
          "base_uri": "https://localhost:8080/",
          "height": 295
        },
        "id": "oEqF3POjoGsk",
        "outputId": "df788a55-9811-4542-c1af-77474d34e430"
      },
      "source": [
        "train_scores = [clf.score(X_train, y_train) for clf in clfs]\n",
        "test_scores = [clf.score(X_test, y_test) for clf in clfs]\n",
        "\n",
        "fig, ax = plt.subplots()\n",
        "ax.set_xlabel('alpha')\n",
        "ax.set_ylabel('accuracy')\n",
        "ax.set_title('Accuracy Vs alpha for training and testing sets')\n",
        "ax.plot(ccp_alphas, train_scores, marker = 'o', label = 'train', drawstyle = 'steps-post')\n",
        "ax.plot(ccp_alphas, test_scores, marker = 'o', label = 'test', drawstyle = 'steps-post')\n",
        "ax.legend()\n",
        "plt.show()"
      ],
      "execution_count": 47,
      "outputs": [
        {
          "output_type": "display_data",
          "data": {
            "image/png": "[encoded data removed]",
            "text/plain": [
              "<Figure size 432x288 with 1 Axes>"
            ]
          },
          "metadata": {
            "tags": [],
            "needs_background": "light"
          }
        }
      ]
    },
    {
      "cell_type": "markdown",
      "metadata": {
        "id": "TRoStt5jqDlx"
      },
      "source": [
        "In the graph above, we see that the accuracy for the **Testing set** hits its maximum value when alpha is about **0.017**. After this value for alpha, the accuracy of the **Training** set drops off and that suggests we should set **ccp_alpha = 0.017**.\n",
        "### Note:\n",
        "When we apply **Cost Complexity Pruning** to a **Classifier Tree**, values for alpha go from 0 to 1, because GINI scores gp from 0 to 1. In contrast, values for alpha for a **Regression Tree** can be much larger since the sum of squared residuals can, in theory, go from 0 to positive infinity.\n",
        "\n",
        "Since there are many ways we could have divided the original data into training and testing datasets, how do we know we used the best **Training Dataset** and how do we know we used the best **Test set**? Typically, we answer this question with **10-Fold Cross Validation**. So that's what we're going to do now, and we'll do it with the **cross_val_score()** function."
      ]
    },
    {
      "cell_type": "markdown",
      "metadata": {
        "id": "5fCchcm3sVEz"
      },
      "source": [
        "## 2. Cross Validation For Finding the Best Alpha\n",
        "The graph we just drew suggested one value for alpha, 0.017, but another set of data might suggest another optimal value.\n",
        "\n",
        "First, let's demonstrate that different training and testing datasets result in trees with different accuracies when we set **ccp_alpha = 0.017**. We will do this by using the **cross_val_score()** function to generate different training and testing datasets and then train and test the tree with those datasets.\n"
      ]
    },
    {
      "cell_type": "code",
      "metadata": {
        "colab": {
          "base_uri": "https://localhost:8080/",
          "height": 295
        },
        "id": "Vak_bR3BtcQ3",
        "outputId": "cfe9414b-b75c-4853-80ed-c6786336a1f1"
      },
      "source": [
        "# Create the tree with ccp_alpha = 0.017\n",
        "clf = DecisionTreeClassifier(random_state=42, ccp_alpha=0.017)\n",
        "\n",
        "# Now use 5-fold cross validation create 5 different training and test sets that are then used to train and test the tree.\n",
        "# Note: We use 5-Fold because we don't have tons of data...\n",
        "\n",
        "scores = cross_val_score(clf, X_train, y_train, cv=5)\n",
        "df = pd.DataFrame(data = {'tree': range(5), 'accuracy': scores})\n",
        "\n",
        "df.plot(x = 'tree', y = 'accuracy', marker = 'o', linestyle = '--')"
      ],
      "execution_count": 48,
      "outputs": [
        {
          "output_type": "execute_result",
          "data": {
            "text/plain": [
              "<matplotlib.axes._subplots.AxesSubplot at 0x7ff6a8251210>"
            ]
          },
          "metadata": {
            "tags": []
          },
          "execution_count": 48
        },
        {
          "output_type": "display_data",
          "data": {
            "image/png": "[encoded data removed]",
            "text/plain": [
              "<Figure size 432x288 with 1 Axes>"
            ]
          },
          "metadata": {
            "tags": [],
            "needs_background": "light"
          }
        }
      ]
    },
    {
      "cell_type": "markdown",
      "metadata": {
        "id": "n6rAebE4u_9t"
      },
      "source": [
        "The graph above shows that using different train and test data with the same alpha resulted in different accuracies, suggesting that alpha is sensitive to the datasets. So, instead of picking a single training set an single test set, let's use corss validation to find the optimal vlaue for ccp_alpha."
      ]
    },
    {
      "cell_type": "code",
      "metadata": {
        "colab": {
          "base_uri": "https://localhost:8080/",
          "height": 295
        },
        "id": "VUhFpbAjviga",
        "outputId": "63c5b176-fdcb-4a42-c084-0bef257c7b24"
      },
      "source": [
        "# Create an array to store the results of each fold during cross validation\n",
        "alpha_loop_values = []\n",
        "\n",
        "# For each candidate value for alpha, we will run 5-fold cross validation.\n",
        "# Then we will store the mean and standard deviation of the scores (the accuracy) for each call\n",
        "# to cross_cal_score in alpha_loop_values...\n",
        "\n",
        "for ccp_alpha in ccp_alphas:\n",
        "  clf = DecisionTreeClassifier(random_state = 0, ccp_alpha = ccp_alpha)\n",
        "  scores = cross_val_score(clf, X_train, y_train, cv=5)\n",
        "  alpha_loop_values.append([ccp_alpha, np.mean(scores), np.std(scores)])\n",
        "\n",
        "# Now we can draw a graph of the means and standard deviations of the scores for each candidate value for alpha\n",
        "alpha_results = pd.DataFrame(alpha_loop_values, columns = ['alpha', 'mean_accuracy', 'std'])\n",
        "\n",
        "alpha_results.plot(x = 'alpha', y = 'mean_accuracy', yerr = 'std', marker = 'o', linestyle = '--')"
      ],
      "execution_count": 49,
      "outputs": [
        {
          "output_type": "execute_result",
          "data": {
            "text/plain": [
              "<matplotlib.axes._subplots.AxesSubplot at 0x7ff6a8191410>"
            ]
          },
          "metadata": {
            "tags": []
          },
          "execution_count": 49
        },
        {
          "output_type": "display_data",
          "data": {
            "image/png": "[encoded data removed]",
            "text/plain": [
              "<Figure size 432x288 with 1 Axes>"
            ]
          },
          "metadata": {
            "tags": [],
            "needs_background": "light"
          }
        }
      ]
    },
    {
      "cell_type": "markdown",
      "metadata": {
        "id": "wMDUp1xgyOar"
      },
      "source": [
        "Using cross validation, we can set that, over all, instead of setting ccp_alpha = 0.017, we need to set it to something closer to 0.015. We can find the exact value with:"
      ]
    },
    {
      "cell_type": "code",
      "metadata": {
        "colab": {
          "base_uri": "https://localhost:8080/",
          "height": 76
        },
        "id": "69dQ7bx5ynwS",
        "outputId": "95c3efaa-5c31-4c00-d368-15d350b66f18"
      },
      "source": [
        "alpha_results[(alpha_results['alpha'] > 0.014) & (alpha_results['alpha'] < 0.015)]"
      ],
      "execution_count": 50,
      "outputs": [
        {
          "output_type": "execute_result",
          "data": {
            "text/html": [
              "<div>\n",
              "<style scoped>\n",
              "    .dataframe tbody tr th:only-of-type {\n",
              "        vertical-align: middle;\n",
              "    }\n",
              "\n",
              "    .dataframe tbody tr th {\n",
              "        vertical-align: top;\n",
              "    }\n",
              "\n",
              "    .dataframe thead th {\n",
              "        text-align: right;\n",
              "    }\n",
              "</style>\n",
              "<table border=\"1\" class=\"dataframe\">\n",
              "  <thead>\n",
              "    <tr style=\"text-align: right;\">\n",
              "      <th></th>\n",
              "      <th>alpha</th>\n",
              "      <th>mean_accuracy</th>\n",
              "      <th>std</th>\n",
              "    </tr>\n",
              "  </thead>\n",
              "  <tbody>\n",
              "    <tr>\n",
              "      <th>20</th>\n",
              "      <td>0.014225</td>\n",
              "      <td>0.752323</td>\n",
              "      <td>0.091956</td>\n",
              "    </tr>\n",
              "  </tbody>\n",
              "</table>\n",
              "</div>"
            ],
            "text/plain": [
              "       alpha  mean_accuracy       std\n",
              "20  0.014225       0.752323  0.091956"
            ]
          },
          "metadata": {
            "tags": []
          },
          "execution_count": 50
        }
      ]
    },
    {
      "cell_type": "markdown",
      "metadata": {
        "id": "tXYYRoG0zLab"
      },
      "source": [
        "Now let's store the ideal value for alpha so that we can use it to build the best tree."
      ]
    },
    {
      "cell_type": "code",
      "metadata": {
        "colab": {
          "base_uri": "https://localhost:8080/"
        },
        "id": "DwDvOBiWzUu0",
        "outputId": "956e4af7-b3f7-4749-e7c6-5d0c3ee11bf2"
      },
      "source": [
        "ideal_ccp_alpha = alpha_results[(alpha_results['alpha'] > 0.014) & (alpha_results['alpha'] < 0.015)]['alpha']\n",
        "ideal_ccp_alpha"
      ],
      "execution_count": 51,
      "outputs": [
        {
          "output_type": "execute_result",
          "data": {
            "text/plain": [
              "20    0.014225\n",
              "Name: alpha, dtype: float64"
            ]
          },
          "metadata": {
            "tags": []
          },
          "execution_count": 51
        }
      ]
    },
    {
      "cell_type": "markdown",
      "metadata": {
        "id": "55lHSqJ3z3Cg"
      },
      "source": [
        "### Note:\n",
        "At this point Python thinks that ideal_ccp_alpha is a series, which is a type of array. We can tell because when we printed ideal_ccp_alpha out, we got two bits of stuff. The first one was 20, which is index in the series, the second one, 0.014225, is the value we want. So we can convert this from a series to a float with the following command:\n"
      ]
    },
    {
      "cell_type": "code",
      "metadata": {
        "colab": {
          "base_uri": "https://localhost:8080/"
        },
        "id": "ZBJ8Nu_Mv2hZ",
        "outputId": "9a057914-1545-4c23-f713-b0ea292e4b63"
      },
      "source": [
        "# Convert ideal_ccp_alpha from a series to a float\n",
        "ideal_ccp_alpha = float(ideal_ccp_alpha)\n",
        "ideal_ccp_alpha"
      ],
      "execution_count": 52,
      "outputs": [
        {
          "output_type": "execute_result",
          "data": {
            "text/plain": [
              "0.014224751066856332"
            ]
          },
          "metadata": {
            "tags": []
          },
          "execution_count": 52
        }
      ]
    },
    {
      "cell_type": "markdown",
      "metadata": {
        "id": "Gm8D7iI30-rk"
      },
      "source": [
        "Now we have the ideal value for alpha and we can build, evaluate and draw the final **Classification Tree**."
      ]
    },
    {
      "cell_type": "markdown",
      "metadata": {
        "id": "v_Mf2y4_1Jzd"
      },
      "source": [
        "# Building, Evaluating, Drawing and Interpreting the Final Classification Tree\n",
        "Now that we have the ideal value for alpha we can build the final **Classification Tree** by setting ccp_alpha = ideal_ccp_alpha:"
      ]
    },
    {
      "cell_type": "code",
      "metadata": {
        "id": "jx1uNXx21Itj"
      },
      "source": [
        "# Build and train a new decision tree, only this time use the optimal value for alpha\n",
        "clf_pruned = DecisionTreeClassifier(random_state = 42, ccp_alpha = ideal_ccp_alpha)\n",
        "clf_pruned = clf_pruned.fit(X_train, y_train)"
      ],
      "execution_count": 53,
      "outputs": []
    },
    {
      "cell_type": "markdown",
      "metadata": {
        "id": "l6lZtr7h2ISA"
      },
      "source": [
        "Now let's draw another confusion matrix to see if the pruned tree does better."
      ]
    },
    {
      "cell_type": "code",
      "metadata": {
        "colab": {
          "base_uri": "https://localhost:8080/",
          "height": 295
        },
        "id": "uNjP96OH2VK7",
        "outputId": "3b772d7d-4ee5-418b-e0e1-78ed3c1986af"
      },
      "source": [
        "plot_confusion_matrix(clf_pruned, X_test, y_test, \n",
        "                      display_labels = ['Does not have HD', 'Has HD'])"
      ],
      "execution_count": 54,
      "outputs": [
        {
          "output_type": "execute_result",
          "data": {
            "text/plain": [
              "<sklearn.metrics._plot.confusion_matrix.ConfusionMatrixDisplay at 0x7ff6a819d850>"
            ]
          },
          "metadata": {
            "tags": []
          },
          "execution_count": 54
        },
        {
          "output_type": "display_data",
          "data": {
            "image/png": "[encoded data removed]",
            "text/plain": [
              "<Figure size 432x288 with 2 Axes>"
            ]
          },
          "metadata": {
            "tags": [],
            "needs_background": "light"
          }
        }
      ]
    },
    {
      "cell_type": "markdown",
      "metadata": {
        "id": "Xo0kP6ZT2vAQ"
      },
      "source": [
        "We see that the pruned tree is better at classifying patients than the full sized tree. \n",
        "\n",
        "Of the **34 + 8 = 42** people that did not have **Heart Disease, 34(81%)** were correctly calssified. This is an improvement over the full sized tree, which only correctly classified **30** of the patients without heart disease. And of the **5 + 28 = 33** people the have **Heart Disease, 28** were correctly classified.\n",
        "\n",
        "The last we are going to do is draw the pruned tree."
      ]
    },
    {
      "cell_type": "code",
      "metadata": {
        "colab": {
          "base_uri": "https://localhost:8080/",
          "height": 328
        },
        "id": "o3Cp7pW34SY2",
        "outputId": "300e196a-ffe5-4549-df29-31a35007f02c"
      },
      "source": [
        "plt.figure(figsize = (15, 7.5))\n",
        "plot_tree(clf_pruned, filled = True, rounded = True, \n",
        "          class_names = ['No HD', 'Yes HD'], \n",
        "          feature_names=X_encoded.columns);"
      ],
      "execution_count": 55,
      "outputs": [
        {
          "output_type": "display_data",
          "data": {
            "image/png": "[encoded data removed]",
            "text/plain": [
              "<Figure size 1080x540 with 1 Axes>"
            ]
          },
          "metadata": {
            "tags": [],
            "needs_background": "light"
          }
        }
      ]
    },
    {
      "cell_type": "markdown",
      "metadata": {
        "id": "ku7nDs775-oP"
      },
      "source": [
        "Let's interpret the tree. in each node, we have:\n",
        "* The variable (column name) and the threshold for splitting the observations. For example, in the tree's root, we use **ca** to split the observations. All observations with **ca <= 0.5** go to the left and all observations with **ca > 0.5** go to the right.\n",
        "* **gini** is the gini index or score for that node\n",
        "* **samples** tell us how many samples are in that node\n",
        "* **value** tells us how many samples in the node are in each category. In this example, we have two categories, **No** and **Yes**, referring to whether or not a patient has heart disease. The number of patients with **No** comes first because the categories are in alphabetical orger. Thus, in the root, 118 patients have **No** and 104 patients have **Yes**. \n",
        "* **class** tells us whichever category is represented most in the node. In the root, since 118 people have **No** and only 104 people have **Yes**, class is set to **No**.\n",
        "\n",
        "Lastly, the nodes and leaves are colored by the **class**. In this case **No** is different shades of orange-ish and **Yes** is different shades of blue. The darker the shade, the lower the **gini** score, and that tells us how much the node or leaf is skewed towards one class."
      ]
    }
  ]
}